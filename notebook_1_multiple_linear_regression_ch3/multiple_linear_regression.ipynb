{
 "cells": [
  {
   "cell_type": "markdown",
   "metadata": {},
   "source": [
    "# Notebook 1\n",
    "\n",
    "## Mutliple Linear Regression Modeling (ISLR Chapter 3)"
   ]
  },
  {
   "cell_type": "markdown",
   "metadata": {},
   "source": [
    "This dataset using US Census data from the 2019 ACS 5 year survey along with COVID-19 vaccination rate data from the Louisiana Department of Health. Data is organized by census tract. The first portion of this Notebook is include the data cleaning and manipulation code. For linear modeling teaching puropses, please start at [Changing Data Type](#start_here)."
   ]
  },
  {
   "cell_type": "code",
   "execution_count": 1,
   "metadata": {},
   "outputs": [],
   "source": [
    "import os\n",
    "import pandas as pd"
   ]
  },
  {
   "cell_type": "code",
   "execution_count": 2,
   "metadata": {},
   "outputs": [],
   "source": [
    "dir_main = os.getcwd()"
   ]
  },
  {
   "cell_type": "code",
   "execution_count": 3,
   "metadata": {},
   "outputs": [],
   "source": [
    "dir_cleaning = os.path.join(dir_main, 'data', 'cleaning')"
   ]
  },
  {
   "cell_type": "code",
   "execution_count": 4,
   "metadata": {},
   "outputs": [],
   "source": [
    "lst_names = os.listdir(dir_cleaning)\n",
    "lst_names\n",
    "\n",
    "lst_temp = []\n",
    "for name in lst_names: # Filter system files out\n",
    "    if not name.startswith('.'):\n",
    "        lst_temp.append(name)\n",
    "lst_names = lst_temp"
   ]
  },
  {
   "cell_type": "code",
   "execution_count": 5,
   "metadata": {},
   "outputs": [
    {
     "data": {
      "text/plain": [
       "['ACSDT5Y2019.B08201_data_with_overlays_2021-06-15T154037.csv',\n",
       " 'ACSST5Y2019.S2301_data_with_overlays_2021-06-15T114804.csv',\n",
       " 'ACSDT5Y2019.B02001_data_with_overlays_2021-06-10T164336.csv',\n",
       " 'ACSST5Y2019.S1501_data_with_overlays_2021-06-15T160409.csv',\n",
       " 'ACSST5Y2019.S1901_data_with_overlays_2021-06-15T155942.csv']"
      ]
     },
     "execution_count": 5,
     "metadata": {},
     "output_type": "execute_result"
    }
   ],
   "source": [
    "lst_names"
   ]
  },
  {
   "cell_type": "code",
   "execution_count": 6,
   "metadata": {},
   "outputs": [
    {
     "name": "stderr",
     "output_type": "stream",
     "text": [
      "/Users/steele/opt/anaconda3/envs/ISLR/lib/python3.9/site-packages/IPython/core/interactiveshell.py:3169: DtypeWarning: Columns (2,3,4,5,6,7,8,9,10,11,12,13,14,15,16,17,18,19,20,21,22,23,24,25,26,27,28,29,30,31,32,33,34,35,36,37,38,39,40,41,42,43,44,45,46,47,48,49,50,51,52,53,54,55,56,57,58,59,60,61,62,63,64,65,66,67,68,69,70,71,72,73,74,75,76,77,78,79,80,81,82,83,84,85,86,87,88,89,90,91,92,93,94,95,96,97,98,99,100,101,102,103,104,105,106,107,108,109,258,259,260,261,262,263,264,265,266,267,268,269,270,271,272,273,274,275,276,277,278,279,280,281,282,283,284,285,286,287,288,289,290,291,292,293,294,295,296,297,298,299,300,301,302,303,304,305,306,307,308,309,310,311,312,313,314,315,316,317,318,319,320,321,322,323,324,325,326,327,328,329,330,331,332,333,334,335,336,337,338,339,340,341,342,343,344,345,346,347,348,349,350,351,352,353,354,355,356,357,358,359,360,361,362,363,364,365,514,515,516,517,518,519,520,521,522,523,524,525,526,527,528,529,530,531,532,533,534,535,536,537,538,539,540,541,542,543,544,545,546,547,548,549,550,551,552,553,554,555,556,557,558,559,560,561,562,563,564,565,566,567,568,569,570,571,572,573,574,575,576,577,578,579,580,581,582,583,584,585,586,587,588,589,590,591,592,593,594,595,596,597,598,599,600,601,602,603,604,605,606,607,608,609,610,611,612,613,614,615,616,617,618,619,620,621) have mixed types.Specify dtype option on import or set low_memory=False.\n",
      "  has_raised = await self.run_ast_nodes(code_ast.body, cell_name,\n"
     ]
    }
   ],
   "source": [
    "lst_dfs = []\n",
    "for name in lst_names:\n",
    "    df_temp = pd.read_csv(os.path.join(dir_cleaning, name), header=None)\n",
    "    \n",
    "    df_temp.drop(df_temp.index[0], inplace=True) # Delete unneeded header\n",
    "    new_header = df_temp.iloc[0] # Grab the first row for the header\n",
    "    df_temp = df_temp[1:] # Take the data less the header row\n",
    "    df_temp.columns = new_header # Set the header row as the df header\n",
    "    \n",
    "    lst_dfs.append(df_temp)"
   ]
  },
  {
   "cell_type": "code",
   "execution_count": 7,
   "metadata": {},
   "outputs": [],
   "source": [
    "from functools import reduce"
   ]
  },
  {
   "cell_type": "code",
   "execution_count": 8,
   "metadata": {},
   "outputs": [],
   "source": [
    "df_merged = reduce(lambda x, y: pd.merge(x, y, on='id'), lst_dfs) # Combine all dataframes together"
   ]
  },
  {
   "cell_type": "code",
   "execution_count": 9,
   "metadata": {},
   "outputs": [],
   "source": [
    "df_stats = df_merged[['id',\n",
    "                      'Labor Force Participation 16 and Older Percent',\n",
    "                      'Median Household Income',\n",
    "                      'Black Percent',\n",
    "                      'No Vehicle Household Percent', \n",
    "                      'Population High School Graduate or Equivalency or Higher Percent']]"
   ]
  },
  {
   "cell_type": "code",
   "execution_count": 10,
   "metadata": {},
   "outputs": [],
   "source": [
    "df_vac = pd.read_csv(os.path.join(dir_main, 'data', '2021.06.28_Vaccinations by Tract.csv'))"
   ]
  },
  {
   "cell_type": "code",
   "execution_count": 11,
   "metadata": {},
   "outputs": [],
   "source": [
    "# Create column with percent vaccination series completed out of total population for census tract\n",
    "df_vac['SeriesCompPercent'] = df_vac['SeriesComp']/df_vac['Total_2018Pop'] "
   ]
  },
  {
   "cell_type": "code",
   "execution_count": 12,
   "metadata": {},
   "outputs": [],
   "source": [
    "# Add full tract code to vaccination tracts\n",
    "tracts = df_vac['TractID']\n",
    "geoid = []\n",
    "for tract in tracts:\n",
    "    geoid.append('1400000US' + str(tract))\n",
    "df_vac['id']  = geoid    "
   ]
  },
  {
   "cell_type": "code",
   "execution_count": 13,
   "metadata": {},
   "outputs": [],
   "source": [
    "df_vac_orig = df_vac.copy(deep=True)\n",
    "\n",
    "# Limit to only Orleans Parish\n",
    "df_vac = df_vac[df_vac.parish == 'Orleans']"
   ]
  },
  {
   "cell_type": "code",
   "execution_count": 14,
   "metadata": {},
   "outputs": [],
   "source": [
    "df_vac = df_vac[['id', 'Lat', 'Long', 'SeriesInt', 'SeriesComp', 'SeriesCompPercent']]"
   ]
  },
  {
   "cell_type": "code",
   "execution_count": 15,
   "metadata": {},
   "outputs": [],
   "source": [
    "df = df_vac.merge(df_stats, on='id', copy=False)"
   ]
  },
  {
   "cell_type": "markdown",
   "metadata": {},
   "source": [
    "<a id='start_here'></a>\n",
    "### Changing Data Type\n",
    "As shown below, we've got a mixture of datatypes. We'll need to change these to float in order to start creating linear models. "
   ]
  },
  {
   "cell_type": "code",
   "execution_count": 16,
   "metadata": {
    "scrolled": true
   },
   "outputs": [
    {
     "data": {
      "text/plain": [
       "id                                                                   object\n",
       "Lat                                                                 float64\n",
       "Long                                                                float64\n",
       "SeriesInt                                                           float64\n",
       "SeriesComp                                                          float64\n",
       "SeriesCompPercent                                                   float64\n",
       "Labor Force Participation 16 and Older Percent                       object\n",
       "Median Household Income                                              object\n",
       "Black Percent                                                        object\n",
       "No Vehicle Household Percent                                         object\n",
       "Population High School Graduate or Equivalency or Higher Percent     object\n",
       "dtype: object"
      ]
     },
     "execution_count": 16,
     "metadata": {},
     "output_type": "execute_result"
    }
   ],
   "source": [
    "df.dtypes"
   ]
  },
  {
   "cell_type": "code",
   "execution_count": 17,
   "metadata": {
    "scrolled": true
   },
   "outputs": [
    {
     "data": {
      "text/plain": [
       "Lat                                                                 float64\n",
       "Long                                                                float64\n",
       "SeriesInt                                                           float64\n",
       "SeriesComp                                                          float64\n",
       "SeriesCompPercent                                                   float64\n",
       "Labor Force Participation 16 and Older Percent                      float64\n",
       "Median Household Income                                             float64\n",
       "Black Percent                                                       float64\n",
       "No Vehicle Household Percent                                        float64\n",
       "Population High School Graduate or Equivalency or Higher Percent    float64\n",
       "id                                                                   object\n",
       "dtype: object"
      ]
     },
     "execution_count": 17,
     "metadata": {},
     "output_type": "execute_result"
    }
   ],
   "source": [
    "# The linear modeling will require int or float instead of objects,\n",
    "# so we will convert the columns to numeric.\n",
    "column_temp = df['id']\n",
    "df.drop(columns='id', inplace=True)\n",
    "df = df.apply(pd.to_numeric, errors='coerce') # Convert all columns to numeric\n",
    "df['id'] = column_temp\n",
    "\n",
    "df.dtypes"
   ]
  },
  {
   "cell_type": "markdown",
   "metadata": {},
   "source": [
    "### Statsmodels\n",
    "\n",
    "Now let's start creating some models."
   ]
  },
  {
   "cell_type": "code",
   "execution_count": 18,
   "metadata": {},
   "outputs": [],
   "source": [
    "import numpy as np\n",
    "import statsmodels.formula.api as smf\n",
    "import statsmodels.api as sm"
   ]
  },
  {
   "cell_type": "markdown",
   "metadata": {},
   "source": [
    "The first part of the model is the <b>outcome variable</b>, in this case, <code>SeriesCompPercent</code> or the percentage of people in a census tract that have completed the COVID-19 vaccination series. "
   ]
  },
  {
   "cell_type": "code",
   "execution_count": 19,
   "metadata": {},
   "outputs": [
    {
     "data": {
      "text/html": [
       "<table class=\"simpletable\">\n",
       "<caption>OLS Regression Results</caption>\n",
       "<tr>\n",
       "  <th>Dep. Variable:</th>    <td>SeriesCompPercent</td> <th>  R-squared:         </th> <td>   0.124</td>\n",
       "</tr>\n",
       "<tr>\n",
       "  <th>Model:</th>                   <td>OLS</td>        <th>  Adj. R-squared:    </th> <td>   0.119</td>\n",
       "</tr>\n",
       "<tr>\n",
       "  <th>Method:</th>             <td>Least Squares</td>   <th>  F-statistic:       </th> <td>   23.43</td>\n",
       "</tr>\n",
       "<tr>\n",
       "  <th>Date:</th>             <td>Wed, 07 Jul 2021</td>  <th>  Prob (F-statistic):</th> <td>2.96e-06</td>\n",
       "</tr>\n",
       "<tr>\n",
       "  <th>Time:</th>                 <td>12:30:49</td>      <th>  Log-Likelihood:    </th> <td>  95.966</td>\n",
       "</tr>\n",
       "<tr>\n",
       "  <th>No. Observations:</th>      <td>   167</td>       <th>  AIC:               </th> <td>  -187.9</td>\n",
       "</tr>\n",
       "<tr>\n",
       "  <th>Df Residuals:</th>          <td>   165</td>       <th>  BIC:               </th> <td>  -181.7</td>\n",
       "</tr>\n",
       "<tr>\n",
       "  <th>Df Model:</th>              <td>     1</td>       <th>                     </th>     <td> </td>   \n",
       "</tr>\n",
       "<tr>\n",
       "  <th>Covariance Type:</th>      <td>nonrobust</td>     <th>                     </th>     <td> </td>   \n",
       "</tr>\n",
       "</table>\n",
       "<table class=\"simpletable\">\n",
       "<tr>\n",
       "                  <td></td>                     <th>coef</th>     <th>std err</th>      <th>t</th>      <th>P>|t|</th>  <th>[0.025</th>    <th>0.975]</th>  \n",
       "</tr>\n",
       "<tr>\n",
       "  <th>Intercept</th>                         <td>    0.5306</td> <td>    0.018</td> <td>   29.036</td> <td> 0.000</td> <td>    0.494</td> <td>    0.567</td>\n",
       "</tr>\n",
       "<tr>\n",
       "  <th>Q(\"No Vehicle Household Percent\")</th> <td>   -0.0037</td> <td>    0.001</td> <td>   -4.840</td> <td> 0.000</td> <td>   -0.005</td> <td>   -0.002</td>\n",
       "</tr>\n",
       "</table>\n",
       "<table class=\"simpletable\">\n",
       "<tr>\n",
       "  <th>Omnibus:</th>       <td>47.143</td> <th>  Durbin-Watson:     </th> <td>   0.912</td>\n",
       "</tr>\n",
       "<tr>\n",
       "  <th>Prob(Omnibus):</th> <td> 0.000</td> <th>  Jarque-Bera (JB):  </th> <td> 177.189</td>\n",
       "</tr>\n",
       "<tr>\n",
       "  <th>Skew:</th>          <td> 1.014</td> <th>  Prob(JB):          </th> <td>3.34e-39</td>\n",
       "</tr>\n",
       "<tr>\n",
       "  <th>Kurtosis:</th>      <td> 7.621</td> <th>  Cond. No.          </th> <td>    41.2</td>\n",
       "</tr>\n",
       "</table><br/><br/>Notes:<br/>[1] Standard Errors assume that the covariance matrix of the errors is correctly specified."
      ],
      "text/plain": [
       "<class 'statsmodels.iolib.summary.Summary'>\n",
       "\"\"\"\n",
       "                            OLS Regression Results                            \n",
       "==============================================================================\n",
       "Dep. Variable:      SeriesCompPercent   R-squared:                       0.124\n",
       "Model:                            OLS   Adj. R-squared:                  0.119\n",
       "Method:                 Least Squares   F-statistic:                     23.43\n",
       "Date:                Wed, 07 Jul 2021   Prob (F-statistic):           2.96e-06\n",
       "Time:                        12:30:49   Log-Likelihood:                 95.966\n",
       "No. Observations:                 167   AIC:                            -187.9\n",
       "Df Residuals:                     165   BIC:                            -181.7\n",
       "Df Model:                           1                                         \n",
       "Covariance Type:            nonrobust                                         \n",
       "=====================================================================================================\n",
       "                                        coef    std err          t      P>|t|      [0.025      0.975]\n",
       "-----------------------------------------------------------------------------------------------------\n",
       "Intercept                             0.5306      0.018     29.036      0.000       0.494       0.567\n",
       "Q(\"No Vehicle Household Percent\")    -0.0037      0.001     -4.840      0.000      -0.005      -0.002\n",
       "==============================================================================\n",
       "Omnibus:                       47.143   Durbin-Watson:                   0.912\n",
       "Prob(Omnibus):                  0.000   Jarque-Bera (JB):              177.189\n",
       "Skew:                           1.014   Prob(JB):                     3.34e-39\n",
       "Kurtosis:                       7.621   Cond. No.                         41.2\n",
       "==============================================================================\n",
       "\n",
       "Notes:\n",
       "[1] Standard Errors assume that the covariance matrix of the errors is correctly specified.\n",
       "\"\"\""
      ]
     },
     "execution_count": 19,
     "metadata": {},
     "output_type": "execute_result"
    }
   ],
   "source": [
    "model_0 = '''SeriesCompPercent ~ \n",
    "            Q(\"No Vehicle Household Percent\")'''\n",
    "est_0 = smf.ols(model_0 , df).fit() # Note use of patsy.builtins.Q https://patsy.readthedocs.io/en/latest/builtins-reference.html#patsy.builtins.Q\n",
    "est_0.summary()"
   ]
  },
  {
   "cell_type": "markdown",
   "metadata": {},
   "source": [
    "### What all this output means\n",
    "\n",
    "<p><b>Adj. R-squared</b> is the overall fit of the model. So we can see that 11.9% of the variability in the data can be accounted for by simply looking at one predictor <code>No Vehicle Household Percent</code> (the percentage of households which do not have access to a vehicle).</p>\n",
    "\n",
    "<p>The next important output from the data is the <b>P>|t|</b> (AKA the <b>p-value</b>). We really want a low p-value, preferribly below 0.05. When the p-value is below 0.05, we can say that only 5% of the time the value predicted will be accurate will occur by chance. That is to say that 95% of the time it will not be by chance.</p>\n",
    "<p style='margin-left:10%; margin-right:10%; border-style: dotted'>So for our p-value for <code>No Vehicle Access Percent</code>, out p-value is 0.000. This is not entirely true though. The p-value in this instance is just very very small, so it's being reported as zero. Another way of reporting the p-value is &lt; 0.001, which is more accurate.</p>\n",
    "<p>The other important point to note is the <b>coef</b>. <code>No Vehicle Household Percent</code> has a negative sign in front of 0.0037. This indicates that as the number of people that have completed the vaccine series increases, the number of households that have access to a vehicle decreases. So, another way of saying this is that the number of households that have access to vehicles is inversely correlated to the number people who have completed the vaccine series.</p>\n",
    "<p>Does this all make sense? Sure it does~! One hypothesis is that the people who can't get rides to vaccination centers are not getting vaccinated.</p>"
   ]
  },
  {
   "attachments": {
    "model_results_1.png": {
     "image/png": "[encoded data removed]"
    }
   },
   "cell_type": "markdown",
   "metadata": {},
   "source": [
    "![model_results_1.png](attachment:model_results_1.png)"
   ]
  },
  {
   "cell_type": "markdown",
   "metadata": {},
   "source": [
    "### Adding a Second Predictor\n",
    "<p>Adding the predictor of <code>Median Household Income</code> increases the <b>Adj. R-squared</b> value to 0.368. Stating this another way, 36.8% of variability can be accounted for by using these two predictors.</p>\n",
    "<p><u>BUT</u>, we need to know if the predictor is statistically significant. Looking at the <b>p-value</b> for <code>Median Household Income</code> we see that it is 0.000, or less than 0.001 to be more accurate. HOWEVER, notice the <b>p-value</b> for <code>No Vehicle Household Percent</code>. It is now 0.128, so it's not longer statistically significant. As we add more predictors, we can see that some previous predictors may become non-significant as the model grows. (Also note how the <b>coef</b> for <code>No Vehicle Household Percent</code> is no longer negative. This can change as the model grows as well.)</p> "
   ]
  },
  {
   "cell_type": "code",
   "execution_count": 20,
   "metadata": {},
   "outputs": [
    {
     "data": {
      "text/html": [
       "<table class=\"simpletable\">\n",
       "<caption>OLS Regression Results</caption>\n",
       "<tr>\n",
       "  <th>Dep. Variable:</th>    <td>SeriesCompPercent</td> <th>  R-squared:         </th> <td>   0.376</td>\n",
       "</tr>\n",
       "<tr>\n",
       "  <th>Model:</th>                   <td>OLS</td>        <th>  Adj. R-squared:    </th> <td>   0.368</td>\n",
       "</tr>\n",
       "<tr>\n",
       "  <th>Method:</th>             <td>Least Squares</td>   <th>  F-statistic:       </th> <td>   49.08</td>\n",
       "</tr>\n",
       "<tr>\n",
       "  <th>Date:</th>             <td>Wed, 07 Jul 2021</td>  <th>  Prob (F-statistic):</th> <td>2.07e-17</td>\n",
       "</tr>\n",
       "<tr>\n",
       "  <th>Time:</th>                 <td>12:30:49</td>      <th>  Log-Likelihood:    </th> <td>  123.00</td>\n",
       "</tr>\n",
       "<tr>\n",
       "  <th>No. Observations:</th>      <td>   166</td>       <th>  AIC:               </th> <td>  -240.0</td>\n",
       "</tr>\n",
       "<tr>\n",
       "  <th>Df Residuals:</th>          <td>   163</td>       <th>  BIC:               </th> <td>  -230.7</td>\n",
       "</tr>\n",
       "<tr>\n",
       "  <th>Df Model:</th>              <td>     2</td>       <th>                     </th>     <td> </td>   \n",
       "</tr>\n",
       "<tr>\n",
       "  <th>Covariance Type:</th>      <td>nonrobust</td>     <th>                     </th>     <td> </td>   \n",
       "</tr>\n",
       "</table>\n",
       "<table class=\"simpletable\">\n",
       "<tr>\n",
       "                  <td></td>                     <th>coef</th>     <th>std err</th>      <th>t</th>      <th>P>|t|</th>  <th>[0.025</th>    <th>0.975]</th>  \n",
       "</tr>\n",
       "<tr>\n",
       "  <th>Intercept</th>                         <td>    0.2723</td> <td>    0.036</td> <td>    7.651</td> <td> 0.000</td> <td>    0.202</td> <td>    0.343</td>\n",
       "</tr>\n",
       "<tr>\n",
       "  <th>Q(\"No Vehicle Household Percent\")</th> <td>    0.0014</td> <td>    0.001</td> <td>    1.531</td> <td> 0.128</td> <td>   -0.000</td> <td>    0.003</td>\n",
       "</tr>\n",
       "<tr>\n",
       "  <th>Q(\"Median Household Income\")</th>      <td> 3.209e-06</td> <td> 3.97e-07</td> <td>    8.079</td> <td> 0.000</td> <td> 2.42e-06</td> <td> 3.99e-06</td>\n",
       "</tr>\n",
       "</table>\n",
       "<table class=\"simpletable\">\n",
       "<tr>\n",
       "  <th>Omnibus:</th>       <td>46.405</td> <th>  Durbin-Watson:     </th> <td>   1.157</td>\n",
       "</tr>\n",
       "<tr>\n",
       "  <th>Prob(Omnibus):</th> <td> 0.000</td> <th>  Jarque-Bera (JB):  </th> <td> 155.398</td>\n",
       "</tr>\n",
       "<tr>\n",
       "  <th>Skew:</th>          <td> 1.046</td> <th>  Prob(JB):          </th> <td>1.80e-34</td>\n",
       "</tr>\n",
       "<tr>\n",
       "  <th>Kurtosis:</th>      <td> 7.253</td> <th>  Cond. No.          </th> <td>2.32e+05</td>\n",
       "</tr>\n",
       "</table><br/><br/>Notes:<br/>[1] Standard Errors assume that the covariance matrix of the errors is correctly specified.<br/>[2] The condition number is large, 2.32e+05. This might indicate that there are<br/>strong multicollinearity or other numerical problems."
      ],
      "text/plain": [
       "<class 'statsmodels.iolib.summary.Summary'>\n",
       "\"\"\"\n",
       "                            OLS Regression Results                            \n",
       "==============================================================================\n",
       "Dep. Variable:      SeriesCompPercent   R-squared:                       0.376\n",
       "Model:                            OLS   Adj. R-squared:                  0.368\n",
       "Method:                 Least Squares   F-statistic:                     49.08\n",
       "Date:                Wed, 07 Jul 2021   Prob (F-statistic):           2.07e-17\n",
       "Time:                        12:30:49   Log-Likelihood:                 123.00\n",
       "No. Observations:                 166   AIC:                            -240.0\n",
       "Df Residuals:                     163   BIC:                            -230.7\n",
       "Df Model:                           2                                         \n",
       "Covariance Type:            nonrobust                                         \n",
       "=====================================================================================================\n",
       "                                        coef    std err          t      P>|t|      [0.025      0.975]\n",
       "-----------------------------------------------------------------------------------------------------\n",
       "Intercept                             0.2723      0.036      7.651      0.000       0.202       0.343\n",
       "Q(\"No Vehicle Household Percent\")     0.0014      0.001      1.531      0.128      -0.000       0.003\n",
       "Q(\"Median Household Income\")       3.209e-06   3.97e-07      8.079      0.000    2.42e-06    3.99e-06\n",
       "==============================================================================\n",
       "Omnibus:                       46.405   Durbin-Watson:                   1.157\n",
       "Prob(Omnibus):                  0.000   Jarque-Bera (JB):              155.398\n",
       "Skew:                           1.046   Prob(JB):                     1.80e-34\n",
       "Kurtosis:                       7.253   Cond. No.                     2.32e+05\n",
       "==============================================================================\n",
       "\n",
       "Notes:\n",
       "[1] Standard Errors assume that the covariance matrix of the errors is correctly specified.\n",
       "[2] The condition number is large, 2.32e+05. This might indicate that there are\n",
       "strong multicollinearity or other numerical problems.\n",
       "\"\"\""
      ]
     },
     "execution_count": 20,
     "metadata": {},
     "output_type": "execute_result"
    }
   ],
   "source": [
    "model_1 = '''SeriesCompPercent ~ \n",
    "            Q(\"No Vehicle Household Percent\") + \n",
    "            Q(\"Median Household Income\")'''\n",
    "est_1 = smf.ols(model_1 , df).fit() # Note use of patsy.builtins.Q https://patsy.readthedocs.io/en/latest/builtins-reference.html#patsy.builtins.Q\n",
    "est_1.summary()"
   ]
  },
  {
   "cell_type": "markdown",
   "metadata": {},
   "source": [
    "### <font color='red'>Test For Understanding</font>\n",
    "Take a look below at the same predictors. We are adding yet another predictor and taking a look at which ones are statistically significant for the model. Which ones are significant? Check your answer below the summary results."
   ]
  },
  {
   "cell_type": "code",
   "execution_count": 21,
   "metadata": {
    "scrolled": false
   },
   "outputs": [
    {
     "data": {
      "text/html": [
       "<table class=\"simpletable\">\n",
       "<caption>OLS Regression Results</caption>\n",
       "<tr>\n",
       "  <th>Dep. Variable:</th>    <td>SeriesCompPercent</td> <th>  R-squared:         </th> <td>   0.463</td>\n",
       "</tr>\n",
       "<tr>\n",
       "  <th>Model:</th>                   <td>OLS</td>        <th>  Adj. R-squared:    </th> <td>   0.453</td>\n",
       "</tr>\n",
       "<tr>\n",
       "  <th>Method:</th>             <td>Least Squares</td>   <th>  F-statistic:       </th> <td>   46.55</td>\n",
       "</tr>\n",
       "<tr>\n",
       "  <th>Date:</th>             <td>Wed, 07 Jul 2021</td>  <th>  Prob (F-statistic):</th> <td>9.46e-22</td>\n",
       "</tr>\n",
       "<tr>\n",
       "  <th>Time:</th>                 <td>12:30:49</td>      <th>  Log-Likelihood:    </th> <td>  135.47</td>\n",
       "</tr>\n",
       "<tr>\n",
       "  <th>No. Observations:</th>      <td>   166</td>       <th>  AIC:               </th> <td>  -262.9</td>\n",
       "</tr>\n",
       "<tr>\n",
       "  <th>Df Residuals:</th>          <td>   162</td>       <th>  BIC:               </th> <td>  -250.5</td>\n",
       "</tr>\n",
       "<tr>\n",
       "  <th>Df Model:</th>              <td>     3</td>       <th>                     </th>     <td> </td>   \n",
       "</tr>\n",
       "<tr>\n",
       "  <th>Covariance Type:</th>      <td>nonrobust</td>     <th>                     </th>     <td> </td>   \n",
       "</tr>\n",
       "</table>\n",
       "<table class=\"simpletable\">\n",
       "<tr>\n",
       "                           <td></td>                              <th>coef</th>     <th>std err</th>      <th>t</th>      <th>P>|t|</th>  <th>[0.025</th>    <th>0.975]</th>  \n",
       "</tr>\n",
       "<tr>\n",
       "  <th>Intercept</th>                                           <td>   -0.0477</td> <td>    0.071</td> <td>   -0.675</td> <td> 0.501</td> <td>   -0.187</td> <td>    0.092</td>\n",
       "</tr>\n",
       "<tr>\n",
       "  <th>Q(\"No Vehicle Household Percent\")</th>                   <td>    0.0027</td> <td>    0.001</td> <td>    3.052</td> <td> 0.003</td> <td>    0.001</td> <td>    0.004</td>\n",
       "</tr>\n",
       "<tr>\n",
       "  <th>Q(\"Median Household Income\")</th>                        <td> 2.884e-06</td> <td> 3.75e-07</td> <td>    7.691</td> <td> 0.000</td> <td> 2.14e-06</td> <td> 3.62e-06</td>\n",
       "</tr>\n",
       "<tr>\n",
       "  <th>Q(\"Labor Force Participation 16 and Older Percent\")</th> <td>    0.0050</td> <td>    0.001</td> <td>    5.126</td> <td> 0.000</td> <td>    0.003</td> <td>    0.007</td>\n",
       "</tr>\n",
       "</table>\n",
       "<table class=\"simpletable\">\n",
       "<tr>\n",
       "  <th>Omnibus:</th>       <td>46.007</td> <th>  Durbin-Watson:     </th> <td>   1.408</td>\n",
       "</tr>\n",
       "<tr>\n",
       "  <th>Prob(Omnibus):</th> <td> 0.000</td> <th>  Jarque-Bera (JB):  </th> <td> 181.640</td>\n",
       "</tr>\n",
       "<tr>\n",
       "  <th>Skew:</th>          <td> 0.972</td> <th>  Prob(JB):          </th> <td>3.61e-40</td>\n",
       "</tr>\n",
       "<tr>\n",
       "  <th>Kurtosis:</th>      <td> 7.741</td> <th>  Cond. No.          </th> <td>4.95e+05</td>\n",
       "</tr>\n",
       "</table><br/><br/>Notes:<br/>[1] Standard Errors assume that the covariance matrix of the errors is correctly specified.<br/>[2] The condition number is large, 4.95e+05. This might indicate that there are<br/>strong multicollinearity or other numerical problems."
      ],
      "text/plain": [
       "<class 'statsmodels.iolib.summary.Summary'>\n",
       "\"\"\"\n",
       "                            OLS Regression Results                            \n",
       "==============================================================================\n",
       "Dep. Variable:      SeriesCompPercent   R-squared:                       0.463\n",
       "Model:                            OLS   Adj. R-squared:                  0.453\n",
       "Method:                 Least Squares   F-statistic:                     46.55\n",
       "Date:                Wed, 07 Jul 2021   Prob (F-statistic):           9.46e-22\n",
       "Time:                        12:30:49   Log-Likelihood:                 135.47\n",
       "No. Observations:                 166   AIC:                            -262.9\n",
       "Df Residuals:                     162   BIC:                            -250.5\n",
       "Df Model:                           3                                         \n",
       "Covariance Type:            nonrobust                                         \n",
       "=======================================================================================================================\n",
       "                                                          coef    std err          t      P>|t|      [0.025      0.975]\n",
       "-----------------------------------------------------------------------------------------------------------------------\n",
       "Intercept                                              -0.0477      0.071     -0.675      0.501      -0.187       0.092\n",
       "Q(\"No Vehicle Household Percent\")                       0.0027      0.001      3.052      0.003       0.001       0.004\n",
       "Q(\"Median Household Income\")                         2.884e-06   3.75e-07      7.691      0.000    2.14e-06    3.62e-06\n",
       "Q(\"Labor Force Participation 16 and Older Percent\")     0.0050      0.001      5.126      0.000       0.003       0.007\n",
       "==============================================================================\n",
       "Omnibus:                       46.007   Durbin-Watson:                   1.408\n",
       "Prob(Omnibus):                  0.000   Jarque-Bera (JB):              181.640\n",
       "Skew:                           0.972   Prob(JB):                     3.61e-40\n",
       "Kurtosis:                       7.741   Cond. No.                     4.95e+05\n",
       "==============================================================================\n",
       "\n",
       "Notes:\n",
       "[1] Standard Errors assume that the covariance matrix of the errors is correctly specified.\n",
       "[2] The condition number is large, 4.95e+05. This might indicate that there are\n",
       "strong multicollinearity or other numerical problems.\n",
       "\"\"\""
      ]
     },
     "execution_count": 21,
     "metadata": {},
     "output_type": "execute_result"
    }
   ],
   "source": [
    "model_2 = '''SeriesCompPercent ~ \n",
    "            Q(\"No Vehicle Household Percent\") + \n",
    "            Q(\"Median Household Income\") +\n",
    "            Q(\"Labor Force Participation 16 and Older Percent\")'''\n",
    "est_2 = smf.ols(model_2 , df).fit() # Note use of patsy.builtins.Q https://patsy.readthedocs.io/en/latest/builtins-reference.html#patsy.builtins.Q\n",
    "est_2.summary()"
   ]
  },
  {
   "cell_type": "markdown",
   "metadata": {},
   "source": [
    "### <font color='red'>Test for Understanding: Answer</font>\n",
    "They They are all significant because their <b>p-values</b> are all less than 0.05. It is important again to note that by adding or dropping predictors."
   ]
  },
  {
   "cell_type": "markdown",
   "metadata": {},
   "source": [
    "### Completing the Model\n",
    "The next two code blocks will add more predictors to see what's significant. Pay close attention to the <b>coef</b> positive and negative sign and the <b>p-values</b> to determine if a predictor is statistically significant. Also note how the <b>Adj. R-squared</b> value is increasing as more predictors are added."
   ]
  },
  {
   "cell_type": "code",
   "execution_count": 22,
   "metadata": {
    "scrolled": false
   },
   "outputs": [
    {
     "data": {
      "text/html": [
       "<table class=\"simpletable\">\n",
       "<caption>OLS Regression Results</caption>\n",
       "<tr>\n",
       "  <th>Dep. Variable:</th>    <td>SeriesCompPercent</td> <th>  R-squared:         </th> <td>   0.478</td>\n",
       "</tr>\n",
       "<tr>\n",
       "  <th>Model:</th>                   <td>OLS</td>        <th>  Adj. R-squared:    </th> <td>   0.465</td>\n",
       "</tr>\n",
       "<tr>\n",
       "  <th>Method:</th>             <td>Least Squares</td>   <th>  F-statistic:       </th> <td>   36.84</td>\n",
       "</tr>\n",
       "<tr>\n",
       "  <th>Date:</th>             <td>Wed, 07 Jul 2021</td>  <th>  Prob (F-statistic):</th> <td>7.50e-22</td>\n",
       "</tr>\n",
       "<tr>\n",
       "  <th>Time:</th>                 <td>12:30:49</td>      <th>  Log-Likelihood:    </th> <td>  137.82</td>\n",
       "</tr>\n",
       "<tr>\n",
       "  <th>No. Observations:</th>      <td>   166</td>       <th>  AIC:               </th> <td>  -265.6</td>\n",
       "</tr>\n",
       "<tr>\n",
       "  <th>Df Residuals:</th>          <td>   161</td>       <th>  BIC:               </th> <td>  -250.1</td>\n",
       "</tr>\n",
       "<tr>\n",
       "  <th>Df Model:</th>              <td>     4</td>       <th>                     </th>     <td> </td>   \n",
       "</tr>\n",
       "<tr>\n",
       "  <th>Covariance Type:</th>      <td>nonrobust</td>     <th>                     </th>     <td> </td>   \n",
       "</tr>\n",
       "</table>\n",
       "<table class=\"simpletable\">\n",
       "<tr>\n",
       "                                    <td></td>                                       <th>coef</th>     <th>std err</th>      <th>t</th>      <th>P>|t|</th>  <th>[0.025</th>    <th>0.975]</th>  \n",
       "</tr>\n",
       "<tr>\n",
       "  <th>Intercept</th>                                                             <td>   -0.2691</td> <td>    0.125</td> <td>   -2.160</td> <td> 0.032</td> <td>   -0.515</td> <td>   -0.023</td>\n",
       "</tr>\n",
       "<tr>\n",
       "  <th>Q(\"No Vehicle Household Percent\")</th>                                     <td>    0.0035</td> <td>    0.001</td> <td>    3.686</td> <td> 0.000</td> <td>    0.002</td> <td>    0.005</td>\n",
       "</tr>\n",
       "<tr>\n",
       "  <th>Q(\"Median Household Income\")</th>                                          <td> 2.559e-06</td> <td> 4.01e-07</td> <td>    6.389</td> <td> 0.000</td> <td> 1.77e-06</td> <td> 3.35e-06</td>\n",
       "</tr>\n",
       "<tr>\n",
       "  <th>Q(\"Labor Force Participation 16 and Older Percent\")</th>                   <td>    0.0043</td> <td>    0.001</td> <td>    4.336</td> <td> 0.000</td> <td>    0.002</td> <td>    0.006</td>\n",
       "</tr>\n",
       "<tr>\n",
       "  <th>Q(\"Population High School Graduate or Equivalency or Higher Percent\")</th> <td>    0.0030</td> <td>    0.001</td> <td>    2.147</td> <td> 0.033</td> <td>    0.000</td> <td>    0.006</td>\n",
       "</tr>\n",
       "</table>\n",
       "<table class=\"simpletable\">\n",
       "<tr>\n",
       "  <th>Omnibus:</th>       <td>42.348</td> <th>  Durbin-Watson:     </th> <td>   1.477</td>\n",
       "</tr>\n",
       "<tr>\n",
       "  <th>Prob(Omnibus):</th> <td> 0.000</td> <th>  Jarque-Bera (JB):  </th> <td> 170.240</td>\n",
       "</tr>\n",
       "<tr>\n",
       "  <th>Skew:</th>          <td> 0.874</td> <th>  Prob(JB):          </th> <td>1.08e-37</td>\n",
       "</tr>\n",
       "<tr>\n",
       "  <th>Kurtosis:</th>      <td> 7.643</td> <th>  Cond. No.          </th> <td>8.82e+05</td>\n",
       "</tr>\n",
       "</table><br/><br/>Notes:<br/>[1] Standard Errors assume that the covariance matrix of the errors is correctly specified.<br/>[2] The condition number is large, 8.82e+05. This might indicate that there are<br/>strong multicollinearity or other numerical problems."
      ],
      "text/plain": [
       "<class 'statsmodels.iolib.summary.Summary'>\n",
       "\"\"\"\n",
       "                            OLS Regression Results                            \n",
       "==============================================================================\n",
       "Dep. Variable:      SeriesCompPercent   R-squared:                       0.478\n",
       "Model:                            OLS   Adj. R-squared:                  0.465\n",
       "Method:                 Least Squares   F-statistic:                     36.84\n",
       "Date:                Wed, 07 Jul 2021   Prob (F-statistic):           7.50e-22\n",
       "Time:                        12:30:49   Log-Likelihood:                 137.82\n",
       "No. Observations:                 166   AIC:                            -265.6\n",
       "Df Residuals:                     161   BIC:                            -250.1\n",
       "Df Model:                           4                                         \n",
       "Covariance Type:            nonrobust                                         \n",
       "=========================================================================================================================================\n",
       "                                                                            coef    std err          t      P>|t|      [0.025      0.975]\n",
       "-----------------------------------------------------------------------------------------------------------------------------------------\n",
       "Intercept                                                                -0.2691      0.125     -2.160      0.032      -0.515      -0.023\n",
       "Q(\"No Vehicle Household Percent\")                                         0.0035      0.001      3.686      0.000       0.002       0.005\n",
       "Q(\"Median Household Income\")                                           2.559e-06   4.01e-07      6.389      0.000    1.77e-06    3.35e-06\n",
       "Q(\"Labor Force Participation 16 and Older Percent\")                       0.0043      0.001      4.336      0.000       0.002       0.006\n",
       "Q(\"Population High School Graduate or Equivalency or Higher Percent\")     0.0030      0.001      2.147      0.033       0.000       0.006\n",
       "==============================================================================\n",
       "Omnibus:                       42.348   Durbin-Watson:                   1.477\n",
       "Prob(Omnibus):                  0.000   Jarque-Bera (JB):              170.240\n",
       "Skew:                           0.874   Prob(JB):                     1.08e-37\n",
       "Kurtosis:                       7.643   Cond. No.                     8.82e+05\n",
       "==============================================================================\n",
       "\n",
       "Notes:\n",
       "[1] Standard Errors assume that the covariance matrix of the errors is correctly specified.\n",
       "[2] The condition number is large, 8.82e+05. This might indicate that there are\n",
       "strong multicollinearity or other numerical problems.\n",
       "\"\"\""
      ]
     },
     "execution_count": 22,
     "metadata": {},
     "output_type": "execute_result"
    }
   ],
   "source": [
    "model_3 = '''SeriesCompPercent ~ \n",
    "            Q(\"No Vehicle Household Percent\") + \n",
    "            Q(\"Median Household Income\") +\n",
    "            Q(\"Labor Force Participation 16 and Older Percent\") + \n",
    "            Q(\"Population High School Graduate or Equivalency or Higher Percent\")'''\n",
    "est_3 = smf.ols(model_3 , df).fit() # Note use of patsy.builtins.Q https://patsy.readthedocs.io/en/latest/builtins-reference.html#patsy.builtins.Q\n",
    "est_3.summary()"
   ]
  },
  {
   "cell_type": "code",
   "execution_count": 23,
   "metadata": {
    "scrolled": false
   },
   "outputs": [
    {
     "data": {
      "text/html": [
       "<table class=\"simpletable\">\n",
       "<caption>OLS Regression Results</caption>\n",
       "<tr>\n",
       "  <th>Dep. Variable:</th>    <td>SeriesCompPercent</td> <th>  R-squared:         </th> <td>   0.584</td>\n",
       "</tr>\n",
       "<tr>\n",
       "  <th>Model:</th>                   <td>OLS</td>        <th>  Adj. R-squared:    </th> <td>   0.571</td>\n",
       "</tr>\n",
       "<tr>\n",
       "  <th>Method:</th>             <td>Least Squares</td>   <th>  F-statistic:       </th> <td>   45.00</td>\n",
       "</tr>\n",
       "<tr>\n",
       "  <th>Date:</th>             <td>Wed, 07 Jul 2021</td>  <th>  Prob (F-statistic):</th> <td>7.76e-29</td>\n",
       "</tr>\n",
       "<tr>\n",
       "  <th>Time:</th>                 <td>12:30:49</td>      <th>  Log-Likelihood:    </th> <td>  156.75</td>\n",
       "</tr>\n",
       "<tr>\n",
       "  <th>No. Observations:</th>      <td>   166</td>       <th>  AIC:               </th> <td>  -301.5</td>\n",
       "</tr>\n",
       "<tr>\n",
       "  <th>Df Residuals:</th>          <td>   160</td>       <th>  BIC:               </th> <td>  -282.8</td>\n",
       "</tr>\n",
       "<tr>\n",
       "  <th>Df Model:</th>              <td>     5</td>       <th>                     </th>     <td> </td>   \n",
       "</tr>\n",
       "<tr>\n",
       "  <th>Covariance Type:</th>      <td>nonrobust</td>     <th>                     </th>     <td> </td>   \n",
       "</tr>\n",
       "</table>\n",
       "<table class=\"simpletable\">\n",
       "<tr>\n",
       "                                    <td></td>                                       <th>coef</th>     <th>std err</th>      <th>t</th>      <th>P>|t|</th>  <th>[0.025</th>    <th>0.975]</th>  \n",
       "</tr>\n",
       "<tr>\n",
       "  <th>Intercept</th>                                                             <td>    0.3650</td> <td>    0.149</td> <td>    2.448</td> <td> 0.015</td> <td>    0.071</td> <td>    0.659</td>\n",
       "</tr>\n",
       "<tr>\n",
       "  <th>Q(\"No Vehicle Household Percent\")</th>                                     <td>    0.0021</td> <td>    0.001</td> <td>    2.321</td> <td> 0.022</td> <td>    0.000</td> <td>    0.004</td>\n",
       "</tr>\n",
       "<tr>\n",
       "  <th>Q(\"Median Household Income\")</th>                                          <td>  1.01e-06</td> <td> 4.32e-07</td> <td>    2.335</td> <td> 0.021</td> <td> 1.56e-07</td> <td> 1.86e-06</td>\n",
       "</tr>\n",
       "<tr>\n",
       "  <th>Q(\"Labor Force Participation 16 and Older Percent\")</th>                   <td>    0.0020</td> <td>    0.001</td> <td>    2.129</td> <td> 0.035</td> <td>    0.000</td> <td>    0.004</td>\n",
       "</tr>\n",
       "<tr>\n",
       "  <th>Q(\"Population High School Graduate or Equivalency or Higher Percent\")</th> <td>    0.0002</td> <td>    0.001</td> <td>    0.182</td> <td> 0.856</td> <td>   -0.002</td> <td>    0.003</td>\n",
       "</tr>\n",
       "<tr>\n",
       "  <th>Q(\"Black Percent\")</th>                                                    <td>   -0.0026</td> <td>    0.000</td> <td>   -6.403</td> <td> 0.000</td> <td>   -0.003</td> <td>   -0.002</td>\n",
       "</tr>\n",
       "</table>\n",
       "<table class=\"simpletable\">\n",
       "<tr>\n",
       "  <th>Omnibus:</th>       <td>78.872</td> <th>  Durbin-Watson:     </th> <td>   1.528</td> \n",
       "</tr>\n",
       "<tr>\n",
       "  <th>Prob(Omnibus):</th> <td> 0.000</td> <th>  Jarque-Bera (JB):  </th> <td> 536.190</td> \n",
       "</tr>\n",
       "<tr>\n",
       "  <th>Skew:</th>          <td> 1.583</td> <th>  Prob(JB):          </th> <td>3.70e-117</td>\n",
       "</tr>\n",
       "<tr>\n",
       "  <th>Kurtosis:</th>      <td>11.216</td> <th>  Cond. No.          </th> <td>1.18e+06</td> \n",
       "</tr>\n",
       "</table><br/><br/>Notes:<br/>[1] Standard Errors assume that the covariance matrix of the errors is correctly specified.<br/>[2] The condition number is large, 1.18e+06. This might indicate that there are<br/>strong multicollinearity or other numerical problems."
      ],
      "text/plain": [
       "<class 'statsmodels.iolib.summary.Summary'>\n",
       "\"\"\"\n",
       "                            OLS Regression Results                            \n",
       "==============================================================================\n",
       "Dep. Variable:      SeriesCompPercent   R-squared:                       0.584\n",
       "Model:                            OLS   Adj. R-squared:                  0.571\n",
       "Method:                 Least Squares   F-statistic:                     45.00\n",
       "Date:                Wed, 07 Jul 2021   Prob (F-statistic):           7.76e-29\n",
       "Time:                        12:30:49   Log-Likelihood:                 156.75\n",
       "No. Observations:                 166   AIC:                            -301.5\n",
       "Df Residuals:                     160   BIC:                            -282.8\n",
       "Df Model:                           5                                         \n",
       "Covariance Type:            nonrobust                                         \n",
       "=========================================================================================================================================\n",
       "                                                                            coef    std err          t      P>|t|      [0.025      0.975]\n",
       "-----------------------------------------------------------------------------------------------------------------------------------------\n",
       "Intercept                                                                 0.3650      0.149      2.448      0.015       0.071       0.659\n",
       "Q(\"No Vehicle Household Percent\")                                         0.0021      0.001      2.321      0.022       0.000       0.004\n",
       "Q(\"Median Household Income\")                                            1.01e-06   4.32e-07      2.335      0.021    1.56e-07    1.86e-06\n",
       "Q(\"Labor Force Participation 16 and Older Percent\")                       0.0020      0.001      2.129      0.035       0.000       0.004\n",
       "Q(\"Population High School Graduate or Equivalency or Higher Percent\")     0.0002      0.001      0.182      0.856      -0.002       0.003\n",
       "Q(\"Black Percent\")                                                       -0.0026      0.000     -6.403      0.000      -0.003      -0.002\n",
       "==============================================================================\n",
       "Omnibus:                       78.872   Durbin-Watson:                   1.528\n",
       "Prob(Omnibus):                  0.000   Jarque-Bera (JB):              536.190\n",
       "Skew:                           1.583   Prob(JB):                    3.70e-117\n",
       "Kurtosis:                      11.216   Cond. No.                     1.18e+06\n",
       "==============================================================================\n",
       "\n",
       "Notes:\n",
       "[1] Standard Errors assume that the covariance matrix of the errors is correctly specified.\n",
       "[2] The condition number is large, 1.18e+06. This might indicate that there are\n",
       "strong multicollinearity or other numerical problems.\n",
       "\"\"\""
      ]
     },
     "execution_count": 23,
     "metadata": {},
     "output_type": "execute_result"
    }
   ],
   "source": [
    "model_4 = '''SeriesCompPercent ~ \n",
    "            Q(\"No Vehicle Household Percent\") + \n",
    "            Q(\"Median Household Income\") +\n",
    "            Q(\"Labor Force Participation 16 and Older Percent\") + \n",
    "            Q(\"Population High School Graduate or Equivalency or Higher Percent\") +\n",
    "            Q(\"Black Percent\")'''\n",
    "est_4 = smf.ols(model_4, df).fit() # Note use of patsy.builtins.Q https://patsy.readthedocs.io/en/latest/builtins-reference.html#patsy.builtins.Q\n",
    "est_4.summary()"
   ]
  },
  {
   "cell_type": "markdown",
   "metadata": {},
   "source": [
    "### Reviewing our full model\n",
    "<p>Several predictors were added, and all predictors would appear to be statistically significant and 57.1% of the variablity was accounted for as shown by the <b>Adj. R-squared</b> value. However, we've got to determine which model is the best. For this we can run an <u>analysis of variance (ANOVA)</u> to determine if there were statistical differences in the models themselves.</p>\n",
    "\n",
    "<p>The ANOA test works by comparing each liner model to the one before it to determine if there was a significant difference between the them. So, <code>est_1</code> will be compared to <code>est_0</code> and <code>est_2</code> will be compared to <code>est_1</code>, and so on down the line. We can determine if the two models were significantly different by looking at the <b>Pr(>F) (the p-value)</b>. In this case each model is significantly different from its previous model as all the p-values are less than 0.05. If the <b>p-value</b> was not less than 0.05, and thus the model was not significantly different, we could say that adding the predictor was not making the model fit any better.</p>\n",
    "\n",
    "<p>The next thing we can look at now that we know that they are are statistically significant is are they different in a way that is better or worse for our intentions. For this we can look at the <b>ssr</b> or <b>sum of squared residuals</b> (note: sometimes this is called RSS or residual sum of squares). <b>ssr</b> tells us how much of a difference there is between our data and our model that we have created. Essentially we are looking for this number to be smaller compared to the model above it. As we can see, the <b>ssr</b> decreases, so each model is an improvement on the one before it.</p>"
   ]
  },
  {
   "cell_type": "code",
   "execution_count": 24,
   "metadata": {},
   "outputs": [
    {
     "data": {
      "text/html": [
       "<div>\n",
       "<style scoped>\n",
       "    .dataframe tbody tr th:only-of-type {\n",
       "        vertical-align: middle;\n",
       "    }\n",
       "\n",
       "    .dataframe tbody tr th {\n",
       "        vertical-align: top;\n",
       "    }\n",
       "\n",
       "    .dataframe thead th {\n",
       "        text-align: right;\n",
       "    }\n",
       "</style>\n",
       "<table border=\"1\" class=\"dataframe\">\n",
       "  <thead>\n",
       "    <tr style=\"text-align: right;\">\n",
       "      <th></th>\n",
       "      <th>df_resid</th>\n",
       "      <th>ssr</th>\n",
       "      <th>df_diff</th>\n",
       "      <th>ss_diff</th>\n",
       "      <th>F</th>\n",
       "      <th>Pr(&gt;F)</th>\n",
       "    </tr>\n",
       "  </thead>\n",
       "  <tbody>\n",
       "    <tr>\n",
       "      <th>0</th>\n",
       "      <td>165.0</td>\n",
       "      <td>3.098195</td>\n",
       "      <td>0.0</td>\n",
       "      <td>NaN</td>\n",
       "      <td>NaN</td>\n",
       "      <td>NaN</td>\n",
       "    </tr>\n",
       "    <tr>\n",
       "      <th>1</th>\n",
       "      <td>163.0</td>\n",
       "      <td>2.208248</td>\n",
       "      <td>2.0</td>\n",
       "      <td>0.889946</td>\n",
       "      <td>48.420205</td>\n",
       "      <td>3.123879e-17</td>\n",
       "    </tr>\n",
       "    <tr>\n",
       "      <th>2</th>\n",
       "      <td>162.0</td>\n",
       "      <td>1.900111</td>\n",
       "      <td>1.0</td>\n",
       "      <td>0.308138</td>\n",
       "      <td>33.530317</td>\n",
       "      <td>3.546489e-08</td>\n",
       "    </tr>\n",
       "    <tr>\n",
       "      <th>3</th>\n",
       "      <td>161.0</td>\n",
       "      <td>1.847199</td>\n",
       "      <td>1.0</td>\n",
       "      <td>0.052912</td>\n",
       "      <td>5.757654</td>\n",
       "      <td>1.755919e-02</td>\n",
       "    </tr>\n",
       "    <tr>\n",
       "      <th>4</th>\n",
       "      <td>160.0</td>\n",
       "      <td>1.470372</td>\n",
       "      <td>1.0</td>\n",
       "      <td>0.376827</td>\n",
       "      <td>41.004775</td>\n",
       "      <td>1.612777e-09</td>\n",
       "    </tr>\n",
       "  </tbody>\n",
       "</table>\n",
       "</div>"
      ],
      "text/plain": [
       "   df_resid       ssr  df_diff   ss_diff          F        Pr(>F)\n",
       "0     165.0  3.098195      0.0       NaN        NaN           NaN\n",
       "1     163.0  2.208248      2.0  0.889946  48.420205  3.123879e-17\n",
       "2     162.0  1.900111      1.0  0.308138  33.530317  3.546489e-08\n",
       "3     161.0  1.847199      1.0  0.052912   5.757654  1.755919e-02\n",
       "4     160.0  1.470372      1.0  0.376827  41.004775  1.612777e-09"
      ]
     },
     "execution_count": 24,
     "metadata": {},
     "output_type": "execute_result"
    }
   ],
   "source": [
    "from statsmodels.stats.api import anova_lm\n",
    "\n",
    "anova_lm(est_0, est_1, est_2, est_3, est_4)"
   ]
  },
  {
   "cell_type": "markdown",
   "metadata": {},
   "source": [
    "### So what does this tell us?\n",
    "\n",
    "<p>This all tell us that there was improvement each time we added a predictor and that our models were significantly different. When we look back at all the models created so far this can start to be confusing. Sure, the <code>est_4</code> model accounts for 58.7%, but this was all dependent on the way the model was built. Remember how when some of the predictors were added they sometimes caused other predictors to be non-significant? We'd have to try all the different combinations and orders of adding and dropping predictors from the model to determine what is actually the best fitting model.</p>\n",
    "\n",
    "<p>It would make us question how we would go about creating and testing all these models. Luckily there is a semi-automated process for predictor elimination process.</p>"
   ]
  },
  {
   "cell_type": "markdown",
   "metadata": {},
   "source": [
    "### Stepwise Algorithm (Automated Approach to Model Selection)\n",
    "<p>A stepwise algorithm works by taking a full model or a blank model and dropping or adding predictors to determine if the resulting model produces a better fit. The adding of predictors is known as <b>forward elimination</b> and the dropping of predictors is known as <b>backwards elimination</b>.</p>\n",
    "    \n",
    "<p>The final results contain only statistically significant predictors while excluding those that do not benefit the model.</p>"
   ]
  },
  {
   "cell_type": "markdown",
   "metadata": {},
   "source": [
    "#### Forward Elimination\n",
    "Starting with a blank model which contains none of our predictors, predictors are added to see if there is a statistically significant change in the model."
   ]
  },
  {
   "cell_type": "code",
   "execution_count": 25,
   "metadata": {},
   "outputs": [],
   "source": [
    "# Forwards elimination\n",
    "\n",
    "def forward_regression(X, y,\n",
    "                       threshold_in,\n",
    "                       verbose=False):\n",
    "    initial_list = []\n",
    "    included = list(initial_list)\n",
    "    while True:\n",
    "        changed=False\n",
    "        excluded = list(set(X.columns)-set(included))\n",
    "        new_pval = pd.Series(index=excluded)\n",
    "        for new_column in excluded:\n",
    "            model = sm.OLS(y, sm.add_constant(pd.DataFrame(X[included+[new_column]]))).fit()\n",
    "            new_pval[new_column] = model.pvalues[new_column]\n",
    "        best_pval = new_pval.min()\n",
    "        if best_pval < threshold_in:\n",
    "            best_feature = new_pval.idxmin()\n",
    "            included.append(best_feature)\n",
    "            changed=True\n",
    "            if verbose:\n",
    "                print('Add [ {:30} ] with p-value {:.6}'.format(best_feature, best_pval))\n",
    "\n",
    "        if not changed:\n",
    "            break\n",
    "\n",
    "    return included"
   ]
  },
  {
   "cell_type": "code",
   "execution_count": 26,
   "metadata": {},
   "outputs": [
    {
     "name": "stdout",
     "output_type": "stream",
     "text": [
      "Add [ Black Percent                  ] with p-value 6.07155e-31\n"
     ]
    },
    {
     "name": "stderr",
     "output_type": "stream",
     "text": [
      "<ipython-input-25-d67633fd2d34>:11: DeprecationWarning: The default dtype for empty Series will be 'object' instead of 'float64' in a future version. Specify a dtype explicitly to silence this warning.\n",
      "  new_pval = pd.Series(index=excluded)\n",
      "<ipython-input-25-d67633fd2d34>:11: DeprecationWarning: The default dtype for empty Series will be 'object' instead of 'float64' in a future version. Specify a dtype explicitly to silence this warning.\n",
      "  new_pval = pd.Series(index=excluded)\n"
     ]
    },
    {
     "data": {
      "text/plain": [
       "['Black Percent']"
      ]
     },
     "execution_count": 26,
     "metadata": {},
     "output_type": "execute_result"
    }
   ],
   "source": [
    "df = df.dropna() # Rows with na must be dropped from the dataframe\n",
    "\n",
    "X = df[[\"No Vehicle Household Percent\",\n",
    "        \"Median Household Income\", \n",
    "        \"Labor Force Participation 16 and Older Percent\",\n",
    "        \"Population High School Graduate or Equivalency or Higher Percent\",\n",
    "        \"Black Percent\"]]\n",
    "y = df.SeriesCompPercent\n",
    "\n",
    "# X is column names, y is values being predicted, and 0.01 is the p-value threshold\n",
    "best = forward_regression(X,y,0.05, verbose=True) # verbose=True will display p-values for predictors\n",
    "best"
   ]
  },
  {
   "cell_type": "markdown",
   "metadata": {},
   "source": [
    "### Backwards Elimination\n",
    "Starting with a model with all predictors and taking one away at a time then testing to see if there was a statistically significant change in the model is known as <b>backward elemination</b>."
   ]
  },
  {
   "cell_type": "code",
   "execution_count": 27,
   "metadata": {},
   "outputs": [],
   "source": [
    "# Backwards elimination\n",
    "\n",
    "def backward_regression(X, y,\n",
    "                        threshold_out,\n",
    "                        verbose=False):\n",
    "    included=list(X.columns)\n",
    "    while True:\n",
    "        changed=False\n",
    "        model = sm.OLS(y, sm.add_constant(pd.DataFrame(X[included]))).fit()\n",
    "        # use all coefs except intercept\n",
    "        pvalues = model.pvalues.iloc[1:]\n",
    "        worst_pval = pvalues.max() # null if pvalues is empty\n",
    "        if worst_pval > threshold_out:\n",
    "            changed=True\n",
    "            worst_feature = pvalues.idxmax()\n",
    "            included.remove(worst_feature)\n",
    "            if verbose:\n",
    "                print('Drop [ {:30} ] with p-value {:.6}'.format(worst_feature, worst_pval))\n",
    "        if not changed:\n",
    "            break\n",
    "    return included"
   ]
  },
  {
   "cell_type": "code",
   "execution_count": 28,
   "metadata": {},
   "outputs": [
    {
     "name": "stdout",
     "output_type": "stream",
     "text": [
      "Drop [ Population High School Graduate or Equivalency or Higher Percent ] with p-value 0.855748\n"
     ]
    },
    {
     "data": {
      "text/plain": [
       "['No Vehicle Household Percent',\n",
       " 'Median Household Income',\n",
       " 'Labor Force Participation 16 and Older Percent',\n",
       " 'Black Percent']"
      ]
     },
     "execution_count": 28,
     "metadata": {},
     "output_type": "execute_result"
    }
   ],
   "source": [
    "best = backward_regression(X,y,0.05, verbose=True)\n",
    "best"
   ]
  },
  {
   "cell_type": "markdown",
   "metadata": {},
   "source": [
    "### Forwards and Backwards: Combining the two models\n",
    "<p>Using forward elimination, we get that the most significant predictor is <code>Black Percent</code>. While other predictors added to the model, they did not add significantly to the model. </p>\n",
    "\n",
    "<p>For backward elimination, we get the most significant predictors as everytrhing except for <code>Populatiojhn High School Graduate or Equivalency or Higher Percent</code>.</p>\n",
    "    \n",
    "<p>If we were to include all the predictors, we would have issues with an overfitted model. Generally we want to use a model which is <u>parsimnonious</u>, meaning that it has the least number of predictors while still being statistically significant. So, let's compare the forward and backward elimination models.</p>"
   ]
  },
  {
   "cell_type": "code",
   "execution_count": 29,
   "metadata": {},
   "outputs": [
    {
     "data": {
      "text/html": [
       "<table class=\"simpletable\">\n",
       "<caption>OLS Regression Results</caption>\n",
       "<tr>\n",
       "  <th>Dep. Variable:</th>    <td>SeriesCompPercent</td> <th>  R-squared:         </th> <td>   0.559</td>\n",
       "</tr>\n",
       "<tr>\n",
       "  <th>Model:</th>                   <td>OLS</td>        <th>  Adj. R-squared:    </th> <td>   0.556</td>\n",
       "</tr>\n",
       "<tr>\n",
       "  <th>Method:</th>             <td>Least Squares</td>   <th>  F-statistic:       </th> <td>   207.7</td>\n",
       "</tr>\n",
       "<tr>\n",
       "  <th>Date:</th>             <td>Wed, 07 Jul 2021</td>  <th>  Prob (F-statistic):</th> <td>6.07e-31</td>\n",
       "</tr>\n",
       "<tr>\n",
       "  <th>Time:</th>                 <td>12:30:49</td>      <th>  Log-Likelihood:    </th> <td>  151.78</td>\n",
       "</tr>\n",
       "<tr>\n",
       "  <th>No. Observations:</th>      <td>   166</td>       <th>  AIC:               </th> <td>  -299.6</td>\n",
       "</tr>\n",
       "<tr>\n",
       "  <th>Df Residuals:</th>          <td>   164</td>       <th>  BIC:               </th> <td>  -293.3</td>\n",
       "</tr>\n",
       "<tr>\n",
       "  <th>Df Model:</th>              <td>     1</td>       <th>                     </th>     <td> </td>   \n",
       "</tr>\n",
       "<tr>\n",
       "  <th>Covariance Type:</th>      <td>nonrobust</td>     <th>                     </th>     <td> </td>   \n",
       "</tr>\n",
       "</table>\n",
       "<table class=\"simpletable\">\n",
       "<tr>\n",
       "           <td></td>             <th>coef</th>     <th>std err</th>      <th>t</th>      <th>P>|t|</th>  <th>[0.025</th>    <th>0.975]</th>  \n",
       "</tr>\n",
       "<tr>\n",
       "  <th>Intercept</th>          <td>    0.6436</td> <td>    0.015</td> <td>   43.159</td> <td> 0.000</td> <td>    0.614</td> <td>    0.673</td>\n",
       "</tr>\n",
       "<tr>\n",
       "  <th>Q(\"Black Percent\")</th> <td>   -0.0033</td> <td>    0.000</td> <td>  -14.410</td> <td> 0.000</td> <td>   -0.004</td> <td>   -0.003</td>\n",
       "</tr>\n",
       "</table>\n",
       "<table class=\"simpletable\">\n",
       "<tr>\n",
       "  <th>Omnibus:</th>       <td>87.699</td> <th>  Durbin-Watson:     </th> <td>   1.507</td> \n",
       "</tr>\n",
       "<tr>\n",
       "  <th>Prob(Omnibus):</th> <td> 0.000</td> <th>  Jarque-Bera (JB):  </th> <td> 817.130</td> \n",
       "</tr>\n",
       "<tr>\n",
       "  <th>Skew:</th>          <td> 1.683</td> <th>  Prob(JB):          </th> <td>3.65e-178</td>\n",
       "</tr>\n",
       "<tr>\n",
       "  <th>Kurtosis:</th>      <td>13.335</td> <th>  Cond. No.          </th> <td>    126.</td> \n",
       "</tr>\n",
       "</table><br/><br/>Notes:<br/>[1] Standard Errors assume that the covariance matrix of the errors is correctly specified."
      ],
      "text/plain": [
       "<class 'statsmodels.iolib.summary.Summary'>\n",
       "\"\"\"\n",
       "                            OLS Regression Results                            \n",
       "==============================================================================\n",
       "Dep. Variable:      SeriesCompPercent   R-squared:                       0.559\n",
       "Model:                            OLS   Adj. R-squared:                  0.556\n",
       "Method:                 Least Squares   F-statistic:                     207.7\n",
       "Date:                Wed, 07 Jul 2021   Prob (F-statistic):           6.07e-31\n",
       "Time:                        12:30:49   Log-Likelihood:                 151.78\n",
       "No. Observations:                 166   AIC:                            -299.6\n",
       "Df Residuals:                     164   BIC:                            -293.3\n",
       "Df Model:                           1                                         \n",
       "Covariance Type:            nonrobust                                         \n",
       "======================================================================================\n",
       "                         coef    std err          t      P>|t|      [0.025      0.975]\n",
       "--------------------------------------------------------------------------------------\n",
       "Intercept              0.6436      0.015     43.159      0.000       0.614       0.673\n",
       "Q(\"Black Percent\")    -0.0033      0.000    -14.410      0.000      -0.004      -0.003\n",
       "==============================================================================\n",
       "Omnibus:                       87.699   Durbin-Watson:                   1.507\n",
       "Prob(Omnibus):                  0.000   Jarque-Bera (JB):              817.130\n",
       "Skew:                           1.683   Prob(JB):                    3.65e-178\n",
       "Kurtosis:                      13.335   Cond. No.                         126.\n",
       "==============================================================================\n",
       "\n",
       "Notes:\n",
       "[1] Standard Errors assume that the covariance matrix of the errors is correctly specified.\n",
       "\"\"\""
      ]
     },
     "execution_count": 29,
     "metadata": {},
     "output_type": "execute_result"
    }
   ],
   "source": [
    "model = '''SeriesCompPercent ~ \n",
    "            Q(\"Black Percent\")'''\n",
    "est_for = smf.ols(model , df).fit() # Note use of patsy.builtins.Q https://patsy.readthedocs.io/en/latest/builtins-reference.html#patsy.builtins.Q\n",
    "est_for.summary()\n"
   ]
  },
  {
   "cell_type": "code",
   "execution_count": 30,
   "metadata": {},
   "outputs": [
    {
     "data": {
      "text/html": [
       "<table class=\"simpletable\">\n",
       "<caption>OLS Regression Results</caption>\n",
       "<tr>\n",
       "  <th>Dep. Variable:</th>    <td>SeriesCompPercent</td> <th>  R-squared:         </th> <td>   0.584</td>\n",
       "</tr>\n",
       "<tr>\n",
       "  <th>Model:</th>                   <td>OLS</td>        <th>  Adj. R-squared:    </th> <td>   0.574</td>\n",
       "</tr>\n",
       "<tr>\n",
       "  <th>Method:</th>             <td>Least Squares</td>   <th>  F-statistic:       </th> <td>   56.58</td>\n",
       "</tr>\n",
       "<tr>\n",
       "  <th>Date:</th>             <td>Wed, 07 Jul 2021</td>  <th>  Prob (F-statistic):</th> <td>9.80e-30</td>\n",
       "</tr>\n",
       "<tr>\n",
       "  <th>Time:</th>                 <td>12:30:49</td>      <th>  Log-Likelihood:    </th> <td>  156.74</td>\n",
       "</tr>\n",
       "<tr>\n",
       "  <th>No. Observations:</th>      <td>   166</td>       <th>  AIC:               </th> <td>  -303.5</td>\n",
       "</tr>\n",
       "<tr>\n",
       "  <th>Df Residuals:</th>          <td>   161</td>       <th>  BIC:               </th> <td>  -287.9</td>\n",
       "</tr>\n",
       "<tr>\n",
       "  <th>Df Model:</th>              <td>     4</td>       <th>                     </th>     <td> </td>   \n",
       "</tr>\n",
       "<tr>\n",
       "  <th>Covariance Type:</th>      <td>nonrobust</td>     <th>                     </th>     <td> </td>   \n",
       "</tr>\n",
       "</table>\n",
       "<table class=\"simpletable\">\n",
       "<tr>\n",
       "                           <td></td>                              <th>coef</th>     <th>std err</th>      <th>t</th>      <th>P>|t|</th>  <th>[0.025</th>    <th>0.975]</th>  \n",
       "</tr>\n",
       "<tr>\n",
       "  <th>Intercept</th>                                           <td>    0.3867</td> <td>    0.089</td> <td>    4.350</td> <td> 0.000</td> <td>    0.211</td> <td>    0.562</td>\n",
       "</tr>\n",
       "<tr>\n",
       "  <th>Q(\"No Vehicle Household Percent\")</th>                   <td>    0.0020</td> <td>    0.001</td> <td>    2.513</td> <td> 0.013</td> <td>    0.000</td> <td>    0.004</td>\n",
       "</tr>\n",
       "<tr>\n",
       "  <th>Q(\"Median Household Income\")</th>                        <td> 1.019e-06</td> <td> 4.28e-07</td> <td>    2.378</td> <td> 0.019</td> <td> 1.73e-07</td> <td> 1.86e-06</td>\n",
       "</tr>\n",
       "<tr>\n",
       "  <th>Q(\"Labor Force Participation 16 and Older Percent\")</th> <td>    0.0021</td> <td>    0.001</td> <td>    2.179</td> <td> 0.031</td> <td>    0.000</td> <td>    0.004</td>\n",
       "</tr>\n",
       "<tr>\n",
       "  <th>Q(\"Black Percent\")</th>                                  <td>   -0.0027</td> <td>    0.000</td> <td>   -6.856</td> <td> 0.000</td> <td>   -0.003</td> <td>   -0.002</td>\n",
       "</tr>\n",
       "</table>\n",
       "<table class=\"simpletable\">\n",
       "<tr>\n",
       "  <th>Omnibus:</th>       <td>79.536</td> <th>  Durbin-Watson:     </th> <td>   1.521</td> \n",
       "</tr>\n",
       "<tr>\n",
       "  <th>Prob(Omnibus):</th> <td> 0.000</td> <th>  Jarque-Bera (JB):  </th> <td> 544.993</td> \n",
       "</tr>\n",
       "<tr>\n",
       "  <th>Skew:</th>          <td> 1.597</td> <th>  Prob(JB):          </th> <td>4.53e-119</td>\n",
       "</tr>\n",
       "<tr>\n",
       "  <th>Kurtosis:</th>      <td>11.282</td> <th>  Cond. No.          </th> <td>7.06e+05</td> \n",
       "</tr>\n",
       "</table><br/><br/>Notes:<br/>[1] Standard Errors assume that the covariance matrix of the errors is correctly specified.<br/>[2] The condition number is large, 7.06e+05. This might indicate that there are<br/>strong multicollinearity or other numerical problems."
      ],
      "text/plain": [
       "<class 'statsmodels.iolib.summary.Summary'>\n",
       "\"\"\"\n",
       "                            OLS Regression Results                            \n",
       "==============================================================================\n",
       "Dep. Variable:      SeriesCompPercent   R-squared:                       0.584\n",
       "Model:                            OLS   Adj. R-squared:                  0.574\n",
       "Method:                 Least Squares   F-statistic:                     56.58\n",
       "Date:                Wed, 07 Jul 2021   Prob (F-statistic):           9.80e-30\n",
       "Time:                        12:30:49   Log-Likelihood:                 156.74\n",
       "No. Observations:                 166   AIC:                            -303.5\n",
       "Df Residuals:                     161   BIC:                            -287.9\n",
       "Df Model:                           4                                         \n",
       "Covariance Type:            nonrobust                                         \n",
       "=======================================================================================================================\n",
       "                                                          coef    std err          t      P>|t|      [0.025      0.975]\n",
       "-----------------------------------------------------------------------------------------------------------------------\n",
       "Intercept                                               0.3867      0.089      4.350      0.000       0.211       0.562\n",
       "Q(\"No Vehicle Household Percent\")                       0.0020      0.001      2.513      0.013       0.000       0.004\n",
       "Q(\"Median Household Income\")                         1.019e-06   4.28e-07      2.378      0.019    1.73e-07    1.86e-06\n",
       "Q(\"Labor Force Participation 16 and Older Percent\")     0.0021      0.001      2.179      0.031       0.000       0.004\n",
       "Q(\"Black Percent\")                                     -0.0027      0.000     -6.856      0.000      -0.003      -0.002\n",
       "==============================================================================\n",
       "Omnibus:                       79.536   Durbin-Watson:                   1.521\n",
       "Prob(Omnibus):                  0.000   Jarque-Bera (JB):              544.993\n",
       "Skew:                           1.597   Prob(JB):                    4.53e-119\n",
       "Kurtosis:                      11.282   Cond. No.                     7.06e+05\n",
       "==============================================================================\n",
       "\n",
       "Notes:\n",
       "[1] Standard Errors assume that the covariance matrix of the errors is correctly specified.\n",
       "[2] The condition number is large, 7.06e+05. This might indicate that there are\n",
       "strong multicollinearity or other numerical problems.\n",
       "\"\"\""
      ]
     },
     "execution_count": 30,
     "metadata": {},
     "output_type": "execute_result"
    }
   ],
   "source": [
    "model = '''SeriesCompPercent ~ \n",
    "           Q(\"No Vehicle Household Percent\") + \n",
    "           Q(\"Median Household Income\") +\n",
    "           Q(\"Labor Force Participation 16 and Older Percent\") + \n",
    "           Q(\"Black Percent\")'''\n",
    "est_back = smf.ols(model, df).fit() # Note use of patsy.builtins.Q https://patsy.readthedocs.io/en/latest/builtins-reference.html#patsy.builtins.Q\n",
    "est_back.summary()"
   ]
  },
  {
   "cell_type": "markdown",
   "metadata": {},
   "source": [
    "### Final Results\n",
    "<p>After running an ANOVA, it becomes clear that the <code>est_4</code> full model was not significantly better than the <code>est_back</code> model due to the <b>p-value</b> being 0.856 which is greater than 0.05. We can also see the that <code>est_back</code> was an statistically significant improvement over <code>est_for</code> and was a better fitting model as well which can be determined by <code>est_back</code> having a smaller <b>ssr</b>.</p>"
   ]
  },
  {
   "cell_type": "code",
   "execution_count": 31,
   "metadata": {},
   "outputs": [
    {
     "data": {
      "text/html": [
       "<div>\n",
       "<style scoped>\n",
       "    .dataframe tbody tr th:only-of-type {\n",
       "        vertical-align: middle;\n",
       "    }\n",
       "\n",
       "    .dataframe tbody tr th {\n",
       "        vertical-align: top;\n",
       "    }\n",
       "\n",
       "    .dataframe thead th {\n",
       "        text-align: right;\n",
       "    }\n",
       "</style>\n",
       "<table border=\"1\" class=\"dataframe\">\n",
       "  <thead>\n",
       "    <tr style=\"text-align: right;\">\n",
       "      <th></th>\n",
       "      <th>df_resid</th>\n",
       "      <th>ssr</th>\n",
       "      <th>df_diff</th>\n",
       "      <th>ss_diff</th>\n",
       "      <th>F</th>\n",
       "      <th>Pr(&gt;F)</th>\n",
       "    </tr>\n",
       "  </thead>\n",
       "  <tbody>\n",
       "    <tr>\n",
       "      <th>0</th>\n",
       "      <td>164.0</td>\n",
       "      <td>1.561207</td>\n",
       "      <td>0.0</td>\n",
       "      <td>NaN</td>\n",
       "      <td>NaN</td>\n",
       "      <td>NaN</td>\n",
       "    </tr>\n",
       "    <tr>\n",
       "      <th>1</th>\n",
       "      <td>161.0</td>\n",
       "      <td>1.470677</td>\n",
       "      <td>3.0</td>\n",
       "      <td>0.090531</td>\n",
       "      <td>3.283726</td>\n",
       "      <td>0.022383</td>\n",
       "    </tr>\n",
       "    <tr>\n",
       "      <th>2</th>\n",
       "      <td>160.0</td>\n",
       "      <td>1.470372</td>\n",
       "      <td>1.0</td>\n",
       "      <td>0.000305</td>\n",
       "      <td>0.033154</td>\n",
       "      <td>0.855748</td>\n",
       "    </tr>\n",
       "  </tbody>\n",
       "</table>\n",
       "</div>"
      ],
      "text/plain": [
       "   df_resid       ssr  df_diff   ss_diff         F    Pr(>F)\n",
       "0     164.0  1.561207      0.0       NaN       NaN       NaN\n",
       "1     161.0  1.470677      3.0  0.090531  3.283726  0.022383\n",
       "2     160.0  1.470372      1.0  0.000305  0.033154  0.855748"
      ]
     },
     "execution_count": 31,
     "metadata": {},
     "output_type": "execute_result"
    }
   ],
   "source": [
    "anova_lm(est_for, est_back, est_4)"
   ]
  },
  {
   "cell_type": "markdown",
   "metadata": {},
   "source": [
    "### <font color='red'>So which model do we choose?</font>\n",
    "<p>There is one final test which we need to examine. That's the <b>Durbin-Watson</b> test. The results of this test let us know of the presence of <u>multicollinearity</u>. What's that you might ask? <u>Multicollinearity</u> is present when predictors have a high correlation between each other. Some of the predictors may be essentially telling us the same thing due to their high correlation. If the <b>Durbin-Watson</b> test statistic is close to 2, then there is essentially no <u>multicollinearity</u>. If the statistic is below 2, there is positive autocorrelation and if it is above 2 there is a negative autocorrelation.</p>\n",
    "\n",
    "<p>That's a lot of words, but what does it mean for us? Since we said determined that <code>est_4</code> is not a significantly better model than <code>est_back</code>, we really only need to look at <code>est_back</code>. Scrolling back a few cells and looking at the summary for <code>est_back</code>, we can see the <b>Durbin-Watson</b> statistic is 1.521. Considering we only have 4 predictors, having any correlation between them could cause issues for us. (With a model using more predictors, a 1.521 <b>Durbin-Watson</b> statistic might not be an issue.) So, let's take a look at a correlation matrix to see what it can tell us about how the predictors are related.</p>"
   ]
  },
  {
   "cell_type": "markdown",
   "metadata": {},
   "source": [
    "### Creating a Correlation Matrix\n",
    "\n",
    "To visulaize correlation between variables, let's create a few matricies. "
   ]
  },
  {
   "cell_type": "code",
   "execution_count": 32,
   "metadata": {
    "scrolled": false
   },
   "outputs": [
    {
     "data": {
      "text/html": [
       "<div>\n",
       "<style scoped>\n",
       "    .dataframe tbody tr th:only-of-type {\n",
       "        vertical-align: middle;\n",
       "    }\n",
       "\n",
       "    .dataframe tbody tr th {\n",
       "        vertical-align: top;\n",
       "    }\n",
       "\n",
       "    .dataframe thead th {\n",
       "        text-align: right;\n",
       "    }\n",
       "</style>\n",
       "<table border=\"1\" class=\"dataframe\">\n",
       "  <thead>\n",
       "    <tr style=\"text-align: right;\">\n",
       "      <th></th>\n",
       "      <th>SeriesCompPercent</th>\n",
       "      <th>Labor Force Participation 16 and Older Percent</th>\n",
       "      <th>Median Household Income</th>\n",
       "      <th>Black Percent</th>\n",
       "      <th>No Vehicle Household Percent</th>\n",
       "      <th>Population High School Graduate or Equivalency or Higher Percent</th>\n",
       "    </tr>\n",
       "  </thead>\n",
       "  <tbody>\n",
       "    <tr>\n",
       "      <th>SeriesCompPercent</th>\n",
       "      <td>1.000000</td>\n",
       "      <td>0.502642</td>\n",
       "      <td>0.605706</td>\n",
       "      <td>-0.747488</td>\n",
       "      <td>-0.354897</td>\n",
       "      <td>0.524838</td>\n",
       "    </tr>\n",
       "    <tr>\n",
       "      <th>Labor Force Participation 16 and Older Percent</th>\n",
       "      <td>0.502642</td>\n",
       "      <td>1.000000</td>\n",
       "      <td>0.454358</td>\n",
       "      <td>-0.591464</td>\n",
       "      <td>-0.500893</td>\n",
       "      <td>0.560538</td>\n",
       "    </tr>\n",
       "    <tr>\n",
       "      <th>Median Household Income</th>\n",
       "      <td>0.605706</td>\n",
       "      <td>0.454358</td>\n",
       "      <td>1.000000</td>\n",
       "      <td>-0.756653</td>\n",
       "      <td>-0.697951</td>\n",
       "      <td>0.708063</td>\n",
       "    </tr>\n",
       "    <tr>\n",
       "      <th>Black Percent</th>\n",
       "      <td>-0.747488</td>\n",
       "      <td>-0.591464</td>\n",
       "      <td>-0.756653</td>\n",
       "      <td>1.000000</td>\n",
       "      <td>0.531316</td>\n",
       "      <td>-0.704231</td>\n",
       "    </tr>\n",
       "    <tr>\n",
       "      <th>No Vehicle Household Percent</th>\n",
       "      <td>-0.354897</td>\n",
       "      <td>-0.500893</td>\n",
       "      <td>-0.697951</td>\n",
       "      <td>0.531316</td>\n",
       "      <td>1.000000</td>\n",
       "      <td>-0.728055</td>\n",
       "    </tr>\n",
       "    <tr>\n",
       "      <th>Population High School Graduate or Equivalency or Higher Percent</th>\n",
       "      <td>0.524838</td>\n",
       "      <td>0.560538</td>\n",
       "      <td>0.708063</td>\n",
       "      <td>-0.704231</td>\n",
       "      <td>-0.728055</td>\n",
       "      <td>1.000000</td>\n",
       "    </tr>\n",
       "  </tbody>\n",
       "</table>\n",
       "</div>"
      ],
      "text/plain": [
       "                                                    SeriesCompPercent  \\\n",
       "SeriesCompPercent                                            1.000000   \n",
       "Labor Force Participation 16 and Older Percent               0.502642   \n",
       "Median Household Income                                      0.605706   \n",
       "Black Percent                                               -0.747488   \n",
       "No Vehicle Household Percent                                -0.354897   \n",
       "Population High School Graduate or Equivalency ...           0.524838   \n",
       "\n",
       "                                                    Labor Force Participation 16 and Older Percent  \\\n",
       "SeriesCompPercent                                                                         0.502642   \n",
       "Labor Force Participation 16 and Older Percent                                            1.000000   \n",
       "Median Household Income                                                                   0.454358   \n",
       "Black Percent                                                                            -0.591464   \n",
       "No Vehicle Household Percent                                                             -0.500893   \n",
       "Population High School Graduate or Equivalency ...                                        0.560538   \n",
       "\n",
       "                                                    Median Household Income  \\\n",
       "SeriesCompPercent                                                  0.605706   \n",
       "Labor Force Participation 16 and Older Percent                     0.454358   \n",
       "Median Household Income                                            1.000000   \n",
       "Black Percent                                                     -0.756653   \n",
       "No Vehicle Household Percent                                      -0.697951   \n",
       "Population High School Graduate or Equivalency ...                 0.708063   \n",
       "\n",
       "                                                    Black Percent  \\\n",
       "SeriesCompPercent                                       -0.747488   \n",
       "Labor Force Participation 16 and Older Percent          -0.591464   \n",
       "Median Household Income                                 -0.756653   \n",
       "Black Percent                                            1.000000   \n",
       "No Vehicle Household Percent                             0.531316   \n",
       "Population High School Graduate or Equivalency ...      -0.704231   \n",
       "\n",
       "                                                    No Vehicle Household Percent  \\\n",
       "SeriesCompPercent                                                      -0.354897   \n",
       "Labor Force Participation 16 and Older Percent                         -0.500893   \n",
       "Median Household Income                                                -0.697951   \n",
       "Black Percent                                                           0.531316   \n",
       "No Vehicle Household Percent                                            1.000000   \n",
       "Population High School Graduate or Equivalency ...                     -0.728055   \n",
       "\n",
       "                                                    Population High School Graduate or Equivalency or Higher Percent  \n",
       "SeriesCompPercent                                                                            0.524838                 \n",
       "Labor Force Participation 16 and Older Percent                                               0.560538                 \n",
       "Median Household Income                                                                      0.708063                 \n",
       "Black Percent                                                                               -0.704231                 \n",
       "No Vehicle Household Percent                                                                -0.728055                 \n",
       "Population High School Graduate or Equivalency ...                                           1.000000                 "
      ]
     },
     "execution_count": 32,
     "metadata": {},
     "output_type": "execute_result"
    }
   ],
   "source": [
    "correl = df.iloc[:, 4:].corr()\n",
    "correl"
   ]
  },
  {
   "cell_type": "code",
   "execution_count": 33,
   "metadata": {
    "scrolled": false
   },
   "outputs": [
    {
     "data": {
      "text/html": [
       "<div>\n",
       "<style scoped>\n",
       "    .dataframe tbody tr th:only-of-type {\n",
       "        vertical-align: middle;\n",
       "    }\n",
       "\n",
       "    .dataframe tbody tr th {\n",
       "        vertical-align: top;\n",
       "    }\n",
       "\n",
       "    .dataframe thead th {\n",
       "        text-align: right;\n",
       "    }\n",
       "</style>\n",
       "<table border=\"1\" class=\"dataframe\">\n",
       "  <thead>\n",
       "    <tr style=\"text-align: right;\">\n",
       "      <th></th>\n",
       "      <th>SeriesCompPercent</th>\n",
       "      <th>Labor Force Participation 16 and Older Percent</th>\n",
       "      <th>Median Household Income</th>\n",
       "      <th>Black Percent</th>\n",
       "      <th>No Vehicle Household Percent</th>\n",
       "      <th>Population High School Graduate or Equivalency or Higher Percent</th>\n",
       "    </tr>\n",
       "  </thead>\n",
       "  <tbody>\n",
       "    <tr>\n",
       "      <th>SeriesCompPercent</th>\n",
       "      <td>True</td>\n",
       "      <td>True</td>\n",
       "      <td>True</td>\n",
       "      <td>False</td>\n",
       "      <td>False</td>\n",
       "      <td>True</td>\n",
       "    </tr>\n",
       "    <tr>\n",
       "      <th>Labor Force Participation 16 and Older Percent</th>\n",
       "      <td>True</td>\n",
       "      <td>True</td>\n",
       "      <td>False</td>\n",
       "      <td>False</td>\n",
       "      <td>False</td>\n",
       "      <td>True</td>\n",
       "    </tr>\n",
       "    <tr>\n",
       "      <th>Median Household Income</th>\n",
       "      <td>True</td>\n",
       "      <td>False</td>\n",
       "      <td>True</td>\n",
       "      <td>False</td>\n",
       "      <td>False</td>\n",
       "      <td>True</td>\n",
       "    </tr>\n",
       "    <tr>\n",
       "      <th>Black Percent</th>\n",
       "      <td>False</td>\n",
       "      <td>False</td>\n",
       "      <td>False</td>\n",
       "      <td>True</td>\n",
       "      <td>True</td>\n",
       "      <td>False</td>\n",
       "    </tr>\n",
       "    <tr>\n",
       "      <th>No Vehicle Household Percent</th>\n",
       "      <td>False</td>\n",
       "      <td>False</td>\n",
       "      <td>False</td>\n",
       "      <td>True</td>\n",
       "      <td>True</td>\n",
       "      <td>False</td>\n",
       "    </tr>\n",
       "    <tr>\n",
       "      <th>Population High School Graduate or Equivalency or Higher Percent</th>\n",
       "      <td>True</td>\n",
       "      <td>True</td>\n",
       "      <td>True</td>\n",
       "      <td>False</td>\n",
       "      <td>False</td>\n",
       "      <td>True</td>\n",
       "    </tr>\n",
       "  </tbody>\n",
       "</table>\n",
       "</div>"
      ],
      "text/plain": [
       "                                                    SeriesCompPercent  \\\n",
       "SeriesCompPercent                                                True   \n",
       "Labor Force Participation 16 and Older Percent                   True   \n",
       "Median Household Income                                          True   \n",
       "Black Percent                                                   False   \n",
       "No Vehicle Household Percent                                    False   \n",
       "Population High School Graduate or Equivalency ...               True   \n",
       "\n",
       "                                                    Labor Force Participation 16 and Older Percent  \\\n",
       "SeriesCompPercent                                                                             True   \n",
       "Labor Force Participation 16 and Older Percent                                                True   \n",
       "Median Household Income                                                                      False   \n",
       "Black Percent                                                                                False   \n",
       "No Vehicle Household Percent                                                                 False   \n",
       "Population High School Graduate or Equivalency ...                                            True   \n",
       "\n",
       "                                                    Median Household Income  \\\n",
       "SeriesCompPercent                                                      True   \n",
       "Labor Force Participation 16 and Older Percent                        False   \n",
       "Median Household Income                                                True   \n",
       "Black Percent                                                         False   \n",
       "No Vehicle Household Percent                                          False   \n",
       "Population High School Graduate or Equivalency ...                     True   \n",
       "\n",
       "                                                    Black Percent  \\\n",
       "SeriesCompPercent                                           False   \n",
       "Labor Force Participation 16 and Older Percent              False   \n",
       "Median Household Income                                     False   \n",
       "Black Percent                                                True   \n",
       "No Vehicle Household Percent                                 True   \n",
       "Population High School Graduate or Equivalency ...          False   \n",
       "\n",
       "                                                    No Vehicle Household Percent  \\\n",
       "SeriesCompPercent                                                          False   \n",
       "Labor Force Participation 16 and Older Percent                             False   \n",
       "Median Household Income                                                    False   \n",
       "Black Percent                                                               True   \n",
       "No Vehicle Household Percent                                                True   \n",
       "Population High School Graduate or Equivalency ...                         False   \n",
       "\n",
       "                                                    Population High School Graduate or Equivalency or Higher Percent  \n",
       "SeriesCompPercent                                                                                True                 \n",
       "Labor Force Participation 16 and Older Percent                                                   True                 \n",
       "Median Household Income                                                                          True                 \n",
       "Black Percent                                                                                   False                 \n",
       "No Vehicle Household Percent                                                                    False                 \n",
       "Population High School Graduate or Equivalency ...                                               True                 "
      ]
     },
     "execution_count": 33,
     "metadata": {},
     "output_type": "execute_result"
    }
   ],
   "source": [
    "correl > 0.5 # Setting the cuttoff at 0.5 we can create a True/False matrix"
   ]
  },
  {
   "cell_type": "markdown",
   "metadata": {},
   "source": [
    "### Correlation Analysis\n",
    "<p>As shown most prominently below by the correlation heatmap, the here is a high correlation between several predictors.</p>"
   ]
  },
  {
   "cell_type": "code",
   "execution_count": 34,
   "metadata": {
    "scrolled": false
   },
   "outputs": [
    {
     "data": {
      "image/png": "[encoded data removed]",
      "text/plain": [
       "<Figure size 640x480 with 2 Axes>"
      ]
     },
     "metadata": {},
     "output_type": "display_data"
    }
   ],
   "source": [
    "import seaborn as sn\n",
    "import matplotlib.pyplot as plt\n",
    "\n",
    "corrMatrix = df.iloc[:, 4:].corr()\n",
    "sn.heatmap(corrMatrix, annot=True) # annot=True adds correleation coefficients to plot\n",
    "plt.show()"
   ]
  },
  {
   "cell_type": "markdown",
   "metadata": {},
   "source": [
    "### What does that mean for us?\n",
    "<p>This means theat because of the high correlation between predictors, we want the model which has the least number of predictors (and thus the most <u>parsimonious</u> model) that still give us a fairly good <b>Adj. R-squared</b> value. The difference in <b>Adj. R-squared</b> values between <code>est_for</code> and <code>est_back</code> is fairly small at <code>0.574 - 0.556 = 0.018</code>. That is to say that in using the less parsimonious <code>est_back</code> model would only improve our model's ability to account for variability by 1.8% and is considerably more complex than the <code>est_for</code> model.</p> \n",
    "\n",
    "### What does this mean in English?\n",
    "<p>Using multiple linear modelling techniques, we determined that out of all the predictors given, that the percentage of Black population was the best predictor for the percentage of the population who has not been vaccinated in Orleans Parish, Louisiana. While there are other predictors which also play a part, race encompases the other predictors and can be used to model vaccination rates for the parish.</p> "
   ]
  },
  {
   "cell_type": "code",
   "execution_count": null,
   "metadata": {},
   "outputs": [],
   "source": []
  },
  {
   "cell_type": "markdown",
   "metadata": {},
   "source": [
    "### To work on next:\n",
    "* <u>Notebook 1:</u> \n",
    " * Now that we have a basic understanding of how linear modeling works using <code>StatsModels</code>, we should move on to using <code>SciKitLearn</code> which will allow for <b>cross validation</b> and more advanced techniques to be used to validate the model and perform <b>predictions</b>. \n",
    "     * I spent quite a while trying to get <b>predictions</b> working with <code>StatsModels</code>, but the documentation is not the best. I don't even think that <b>cross validation</b> is implemented in <code>StatsModels</code>.\n",
    "\n",
    "* <u>Notebook 2:</u>\n",
    " * After that, log based modeling using a quick intro with <code>StatsModels</code> and then going in depth with <code>SciKitLearn</code>.\n",
    "   * The R <code>logit()</code> function would be the best place to start with learn how it was ported over from R or if there is something similar in other Python packages. \n",
    " * Since this notebook should be pretty short, it would be a good point to bring in <b>cross validation</b> and <b>predictions</b>. This notebook should go quicker in both writing and teaching as the basis for understanding the statistics for modeling was laid out in <u>Notebook 1</u>.\n",
    "\n",
    "* <u>Notebook 3:</u>\n",
    " * Next would be using decision trees, something like <b>random forest</b> or the like. I have no experience with this yet, but glancing at some tutorials, I would think the same notebook style could be used for this type of modeling as well.\n",
    "\n",
    "* <u>Notebook 4:</u>\n",
    " * Incorporating all of this modelling into making predictions and mapping using GIS tools, <code>Folium</code> or ESRI tools.\n",
    " * This could also be done piecemeal throughout, but it would be nice to have a culminating project. I'm going to guess this will be the easiest part of all these notebooks.  "
   ]
  },
  {
   "cell_type": "code",
   "execution_count": null,
   "metadata": {},
   "outputs": [],
   "source": []
  }
 ],
 "metadata": {
  "kernelspec": {
   "display_name": "Python 3",
   "language": "python",
   "name": "python3"
  },
  "language_info": {
   "codemirror_mode": {
    "name": "ipython",
    "version": 3
   },
   "file_extension": ".py",
   "mimetype": "text/x-python",
   "name": "python",
   "nbconvert_exporter": "python",
   "pygments_lexer": "ipython3",
   "version": "3.9.5"
  }
 },
 "nbformat": 4,
 "nbformat_minor": 4
}
