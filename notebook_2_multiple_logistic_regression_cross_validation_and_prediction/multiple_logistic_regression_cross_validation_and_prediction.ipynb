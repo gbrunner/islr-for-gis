{
 "cells": [
  {
   "cell_type": "markdown",
   "id": "40daea53",
   "metadata": {},
   "source": [
    "# Notebook 2\n",
    "\n",
    "## Mutliple Logistic Regression Modeling (ISLR Chapter 4)"
   ]
  },
  {
   "cell_type": "markdown",
   "id": "3ef95cf9",
   "metadata": {},
   "source": [
    "This dataset using US Census data from the 2019 ACS 5 year survey along with COVID-19 vaccination rate data from the Louisiana Department of Health. Data is organized by census tract. The first portion of this Notebook is include the data cleaning and manipulation code. For logistic modeling teaching puropses, please start at [What is a binomial? What does it mean? Why are we using it?](#start_here)."
   ]
  },
  {
   "cell_type": "code",
   "execution_count": 1,
   "id": "32a92f10",
   "metadata": {},
   "outputs": [],
   "source": [
    "import os\n",
    "import pandas as pd"
   ]
  },
  {
   "cell_type": "code",
   "execution_count": 2,
   "id": "94f41cdd",
   "metadata": {},
   "outputs": [],
   "source": [
    "dir_main = os.getcwd()"
   ]
  },
  {
   "cell_type": "code",
   "execution_count": 3,
   "id": "91e8234d",
   "metadata": {},
   "outputs": [],
   "source": [
    "dir_cleaning = os.path.join(dir_main, 'data', 'cleaning')"
   ]
  },
  {
   "cell_type": "code",
   "execution_count": 4,
   "id": "5a1c471a",
   "metadata": {},
   "outputs": [],
   "source": [
    "lst_names = os.listdir(dir_cleaning)\n",
    "lst_names\n",
    "\n",
    "lst_temp = []\n",
    "for name in lst_names: # Filter system files out\n",
    "    if not name.startswith('.'):\n",
    "        lst_temp.append(name)\n",
    "lst_names = lst_temp"
   ]
  },
  {
   "cell_type": "code",
   "execution_count": 5,
   "id": "5fa65ec8",
   "metadata": {},
   "outputs": [
    {
     "data": {
      "text/plain": [
       "['ACSDT5Y2019.B08201_data_with_overlays_2021-06-15T154037.csv',\n",
       " 'ACSST5Y2019.S2301_data_with_overlays_2021-06-15T114804.csv',\n",
       " 'ACSDT5Y2019.B02001_data_with_overlays_2021-06-10T164336.csv',\n",
       " 'ACSST5Y2019.S1501_data_with_overlays_2021-06-15T160409.csv',\n",
       " 'ACSST5Y2019.S1901_data_with_overlays_2021-06-15T155942.csv']"
      ]
     },
     "execution_count": 5,
     "metadata": {},
     "output_type": "execute_result"
    }
   ],
   "source": [
    "lst_names"
   ]
  },
  {
   "cell_type": "code",
   "execution_count": 6,
   "id": "e8017225",
   "metadata": {},
   "outputs": [
    {
     "name": "stderr",
     "output_type": "stream",
     "text": [
      "/Users/steele/opt/anaconda3/envs/ISLR/lib/python3.9/site-packages/IPython/core/interactiveshell.py:3169: DtypeWarning: Columns (2,3,4,5,6,7,8,9,10,11,12,13,14,15,16,17,18,19,20,21,22,23,24,25,26,27,28,29,30,31,32,33,34,35,36,37,38,39,40,41,42,43,44,45,46,47,48,49,50,51,52,53,54,55,56,57,58,59,60,61,62,63,64,65,66,67,68,69,70,71,72,73,74,75,76,77,78,79,80,81,82,83,84,85,86,87,88,89,90,91,92,93,94,95,96,97,98,99,100,101,102,103,104,105,106,107,108,109,258,259,260,261,262,263,264,265,266,267,268,269,270,271,272,273,274,275,276,277,278,279,280,281,282,283,284,285,286,287,288,289,290,291,292,293,294,295,296,297,298,299,300,301,302,303,304,305,306,307,308,309,310,311,312,313,314,315,316,317,318,319,320,321,322,323,324,325,326,327,328,329,330,331,332,333,334,335,336,337,338,339,340,341,342,343,344,345,346,347,348,349,350,351,352,353,354,355,356,357,358,359,360,361,362,363,364,365,514,515,516,517,518,519,520,521,522,523,524,525,526,527,528,529,530,531,532,533,534,535,536,537,538,539,540,541,542,543,544,545,546,547,548,549,550,551,552,553,554,555,556,557,558,559,560,561,562,563,564,565,566,567,568,569,570,571,572,573,574,575,576,577,578,579,580,581,582,583,584,585,586,587,588,589,590,591,592,593,594,595,596,597,598,599,600,601,602,603,604,605,606,607,608,609,610,611,612,613,614,615,616,617,618,619,620,621) have mixed types.Specify dtype option on import or set low_memory=False.\n",
      "  has_raised = await self.run_ast_nodes(code_ast.body, cell_name,\n"
     ]
    }
   ],
   "source": [
    "lst_dfs = []\n",
    "for name in lst_names:\n",
    "    df_temp = pd.read_csv(os.path.join(dir_cleaning, name), header=None)\n",
    "    \n",
    "    df_temp.drop(df_temp.index[0], inplace=True) # Delete unneeded header\n",
    "    new_header = df_temp.iloc[0] # Grab the first row for the header\n",
    "    df_temp = df_temp[1:] # Take the data less the header row\n",
    "    df_temp.columns = new_header # Set the header row as the df header\n",
    "    \n",
    "    lst_dfs.append(df_temp)"
   ]
  },
  {
   "cell_type": "code",
   "execution_count": 7,
   "id": "0b010a2e",
   "metadata": {},
   "outputs": [],
   "source": [
    "from functools import reduce"
   ]
  },
  {
   "cell_type": "code",
   "execution_count": 8,
   "id": "9418ae0b",
   "metadata": {},
   "outputs": [],
   "source": [
    "df_merged = reduce(lambda x, y: pd.merge(x, y, on='id'), lst_dfs) # Combine all dataframes together"
   ]
  },
  {
   "cell_type": "code",
   "execution_count": 9,
   "id": "3e7dcf80",
   "metadata": {},
   "outputs": [],
   "source": [
    "df_stats = df_merged[['id',\n",
    "                      'Labor Force Participation 16 and Older Percent',\n",
    "                      'Median Household Income',\n",
    "                      'Black Percent',\n",
    "                      'No Vehicle Household Percent', \n",
    "                      'Population High School Graduate or Equivalency or Higher Percent']]"
   ]
  },
  {
   "cell_type": "code",
   "execution_count": 10,
   "id": "baba1051",
   "metadata": {},
   "outputs": [],
   "source": [
    "df_vac = pd.read_csv(os.path.join(dir_main, 'data', '2021.06.28_Vaccinations by Tract.csv'))"
   ]
  },
  {
   "cell_type": "code",
   "execution_count": 11,
   "id": "c3f8266f",
   "metadata": {},
   "outputs": [],
   "source": [
    "# Create column with percent vaccination series completed out of total population for census tract\n",
    "df_vac['SeriesCompPercent'] = df_vac['SeriesComp']/df_vac['Total_2018Pop'] "
   ]
  },
  {
   "cell_type": "code",
   "execution_count": 12,
   "id": "916ac2c7",
   "metadata": {},
   "outputs": [],
   "source": [
    "# Add full tract code to vaccination tracts\n",
    "tracts = df_vac['TractID']\n",
    "geoid = []\n",
    "for tract in tracts:\n",
    "    geoid.append('1400000US' + str(tract))\n",
    "df_vac['id']  = geoid    "
   ]
  },
  {
   "cell_type": "code",
   "execution_count": 13,
   "id": "35ca9133",
   "metadata": {},
   "outputs": [],
   "source": [
    "df_vac_orig = df_vac.copy(deep=True)\n",
    "\n",
    "# Limit to only Orleans Parish\n",
    "df_vac = df_vac[df_vac.parish == 'Orleans']"
   ]
  },
  {
   "cell_type": "code",
   "execution_count": 14,
   "id": "4084c303",
   "metadata": {},
   "outputs": [],
   "source": [
    "df_vac = df_vac[['id', 'Lat', 'Long', 'SeriesInt', 'SeriesComp', 'SeriesCompPercent']]"
   ]
  },
  {
   "cell_type": "code",
   "execution_count": 15,
   "id": "93a0fc52",
   "metadata": {},
   "outputs": [],
   "source": [
    "df = df_vac.merge(df_stats, on='id', copy=False)"
   ]
  },
  {
   "cell_type": "markdown",
   "id": "628ba9af",
   "metadata": {},
   "source": [
    "### Changing Data Type\n",
    "As shown below, we've got a mixture of datatypes. We'll need to change these to float in order to start creating models. "
   ]
  },
  {
   "cell_type": "code",
   "execution_count": 16,
   "id": "38f72f1e",
   "metadata": {
    "scrolled": true
   },
   "outputs": [
    {
     "data": {
      "text/plain": [
       "id                                                                   object\n",
       "Lat                                                                 float64\n",
       "Long                                                                float64\n",
       "SeriesInt                                                           float64\n",
       "SeriesComp                                                          float64\n",
       "SeriesCompPercent                                                   float64\n",
       "Labor Force Participation 16 and Older Percent                       object\n",
       "Median Household Income                                              object\n",
       "Black Percent                                                        object\n",
       "No Vehicle Household Percent                                         object\n",
       "Population High School Graduate or Equivalency or Higher Percent     object\n",
       "dtype: object"
      ]
     },
     "execution_count": 16,
     "metadata": {},
     "output_type": "execute_result"
    }
   ],
   "source": [
    "df.dtypes"
   ]
  },
  {
   "cell_type": "code",
   "execution_count": 17,
   "id": "62227ee0",
   "metadata": {
    "scrolled": false
   },
   "outputs": [
    {
     "data": {
      "text/plain": [
       "Lat                                                                 float64\n",
       "Long                                                                float64\n",
       "SeriesInt                                                           float64\n",
       "SeriesComp                                                          float64\n",
       "SeriesCompPercent                                                   float64\n",
       "Labor Force Participation 16 and Older Percent                      float64\n",
       "Median Household Income                                             float64\n",
       "Black Percent                                                       float64\n",
       "No Vehicle Household Percent                                        float64\n",
       "Population High School Graduate or Equivalency or Higher Percent    float64\n",
       "id                                                                   object\n",
       "dtype: object"
      ]
     },
     "execution_count": 17,
     "metadata": {},
     "output_type": "execute_result"
    }
   ],
   "source": [
    "# The linear modeling will require int or float instead of objects,\n",
    "# so we will convert the columns to numeric.\n",
    "column_temp = df['id']\n",
    "df.drop(columns='id', inplace=True)\n",
    "df = df.apply(pd.to_numeric, errors='coerce') # Convert all columns to numeric\n",
    "df['id'] = column_temp\n",
    "\n",
    "df.dtypes"
   ]
  },
  {
   "cell_type": "code",
   "execution_count": 18,
   "id": "b253cb3b",
   "metadata": {
    "scrolled": true
   },
   "outputs": [
    {
     "data": {
      "text/html": [
       "<div>\n",
       "<style scoped>\n",
       "    .dataframe tbody tr th:only-of-type {\n",
       "        vertical-align: middle;\n",
       "    }\n",
       "\n",
       "    .dataframe tbody tr th {\n",
       "        vertical-align: top;\n",
       "    }\n",
       "\n",
       "    .dataframe thead th {\n",
       "        text-align: right;\n",
       "    }\n",
       "</style>\n",
       "<table border=\"1\" class=\"dataframe\">\n",
       "  <thead>\n",
       "    <tr style=\"text-align: right;\">\n",
       "      <th></th>\n",
       "      <th>Lat</th>\n",
       "      <th>Long</th>\n",
       "      <th>SeriesInt</th>\n",
       "      <th>SeriesComp</th>\n",
       "      <th>SeriesCompPercent</th>\n",
       "      <th>Labor Force Participation 16 and Older Percent</th>\n",
       "      <th>Median Household Income</th>\n",
       "      <th>Black Percent</th>\n",
       "      <th>No Vehicle Household Percent</th>\n",
       "      <th>Population High School Graduate or Equivalency or Higher Percent</th>\n",
       "    </tr>\n",
       "  </thead>\n",
       "  <tbody>\n",
       "    <tr>\n",
       "      <th>count</th>\n",
       "      <td>177.000000</td>\n",
       "      <td>177.000000</td>\n",
       "      <td>168.000000</td>\n",
       "      <td>168.00000</td>\n",
       "      <td>168.000000</td>\n",
       "      <td>174.000000</td>\n",
       "      <td>170.000000</td>\n",
       "      <td>174.000000</td>\n",
       "      <td>172.000000</td>\n",
       "      <td>174.000000</td>\n",
       "    </tr>\n",
       "    <tr>\n",
       "      <th>mean</th>\n",
       "      <td>29.971739</td>\n",
       "      <td>-90.057728</td>\n",
       "      <td>1096.696429</td>\n",
       "      <td>1002.87500</td>\n",
       "      <td>0.456262</td>\n",
       "      <td>61.945402</td>\n",
       "      <td>48814.541176</td>\n",
       "      <td>56.397553</td>\n",
       "      <td>20.184876</td>\n",
       "      <td>85.506897</td>\n",
       "    </tr>\n",
       "    <tr>\n",
       "      <th>std</th>\n",
       "      <td>0.041055</td>\n",
       "      <td>0.056683</td>\n",
       "      <td>536.080081</td>\n",
       "      <td>488.38913</td>\n",
       "      <td>0.148525</td>\n",
       "      <td>11.515823</td>\n",
       "      <td>31899.207159</td>\n",
       "      <td>32.718965</td>\n",
       "      <td>14.593598</td>\n",
       "      <td>10.522432</td>\n",
       "    </tr>\n",
       "    <tr>\n",
       "      <th>min</th>\n",
       "      <td>29.898550</td>\n",
       "      <td>-90.135307</td>\n",
       "      <td>214.000000</td>\n",
       "      <td>190.00000</td>\n",
       "      <td>0.075517</td>\n",
       "      <td>0.000000</td>\n",
       "      <td>10288.000000</td>\n",
       "      <td>0.901172</td>\n",
       "      <td>0.000000</td>\n",
       "      <td>55.900000</td>\n",
       "    </tr>\n",
       "    <tr>\n",
       "      <th>25%</th>\n",
       "      <td>29.939842</td>\n",
       "      <td>-90.099388</td>\n",
       "      <td>746.250000</td>\n",
       "      <td>667.75000</td>\n",
       "      <td>0.346976</td>\n",
       "      <td>55.150000</td>\n",
       "      <td>25073.000000</td>\n",
       "      <td>24.274568</td>\n",
       "      <td>8.683670</td>\n",
       "      <td>78.625000</td>\n",
       "    </tr>\n",
       "    <tr>\n",
       "      <th>50%</th>\n",
       "      <td>29.965729</td>\n",
       "      <td>-90.070679</td>\n",
       "      <td>995.000000</td>\n",
       "      <td>908.50000</td>\n",
       "      <td>0.431049</td>\n",
       "      <td>62.450000</td>\n",
       "      <td>39654.000000</td>\n",
       "      <td>67.377099</td>\n",
       "      <td>17.044145</td>\n",
       "      <td>86.650000</td>\n",
       "    </tr>\n",
       "    <tr>\n",
       "      <th>75%</th>\n",
       "      <td>29.997370</td>\n",
       "      <td>-90.032219</td>\n",
       "      <td>1378.750000</td>\n",
       "      <td>1234.00000</td>\n",
       "      <td>0.576862</td>\n",
       "      <td>70.475000</td>\n",
       "      <td>66384.250000</td>\n",
       "      <td>85.722305</td>\n",
       "      <td>29.486389</td>\n",
       "      <td>94.950000</td>\n",
       "    </tr>\n",
       "    <tr>\n",
       "      <th>max</th>\n",
       "      <td>30.121422</td>\n",
       "      <td>-89.752693</td>\n",
       "      <td>3972.000000</td>\n",
       "      <td>3309.00000</td>\n",
       "      <td>1.157398</td>\n",
       "      <td>83.700000</td>\n",
       "      <td>170278.000000</td>\n",
       "      <td>98.889755</td>\n",
       "      <td>65.775401</td>\n",
       "      <td>100.000000</td>\n",
       "    </tr>\n",
       "  </tbody>\n",
       "</table>\n",
       "</div>"
      ],
      "text/plain": [
       "              Lat        Long    SeriesInt  SeriesComp  SeriesCompPercent  \\\n",
       "count  177.000000  177.000000   168.000000   168.00000         168.000000   \n",
       "mean    29.971739  -90.057728  1096.696429  1002.87500           0.456262   \n",
       "std      0.041055    0.056683   536.080081   488.38913           0.148525   \n",
       "min     29.898550  -90.135307   214.000000   190.00000           0.075517   \n",
       "25%     29.939842  -90.099388   746.250000   667.75000           0.346976   \n",
       "50%     29.965729  -90.070679   995.000000   908.50000           0.431049   \n",
       "75%     29.997370  -90.032219  1378.750000  1234.00000           0.576862   \n",
       "max     30.121422  -89.752693  3972.000000  3309.00000           1.157398   \n",
       "\n",
       "       Labor Force Participation 16 and Older Percent  \\\n",
       "count                                      174.000000   \n",
       "mean                                        61.945402   \n",
       "std                                         11.515823   \n",
       "min                                          0.000000   \n",
       "25%                                         55.150000   \n",
       "50%                                         62.450000   \n",
       "75%                                         70.475000   \n",
       "max                                         83.700000   \n",
       "\n",
       "       Median Household Income  Black Percent  No Vehicle Household Percent  \\\n",
       "count               170.000000     174.000000                    172.000000   \n",
       "mean              48814.541176      56.397553                     20.184876   \n",
       "std               31899.207159      32.718965                     14.593598   \n",
       "min               10288.000000       0.901172                      0.000000   \n",
       "25%               25073.000000      24.274568                      8.683670   \n",
       "50%               39654.000000      67.377099                     17.044145   \n",
       "75%               66384.250000      85.722305                     29.486389   \n",
       "max              170278.000000      98.889755                     65.775401   \n",
       "\n",
       "       Population High School Graduate or Equivalency or Higher Percent  \n",
       "count                                         174.000000                 \n",
       "mean                                           85.506897                 \n",
       "std                                            10.522432                 \n",
       "min                                            55.900000                 \n",
       "25%                                            78.625000                 \n",
       "50%                                            86.650000                 \n",
       "75%                                            94.950000                 \n",
       "max                                           100.000000                 "
      ]
     },
     "execution_count": 18,
     "metadata": {},
     "output_type": "execute_result"
    }
   ],
   "source": [
    "df.describe()"
   ]
  },
  {
   "cell_type": "markdown",
   "id": "8e8d3a1c",
   "metadata": {},
   "source": [
    "<a id='start_here'></a>\n",
    "### What is a binomial? What does it mean? Why are we using it?\n",
    "<p>Logistic modeling is used for inferring or predicting something that has two outcomes.</p>\n",
    "<p>In the example below, we can see how when we have two categories that linear regression might not be the best way to go about modeling. A line simply won't fit the data categories we have. Looking at logistic regression, we can approximate the dataset much easier much better. Is it perfect? Not at all. There is overlap between the values set to 1 and the values set to 0, but we will be able to better approximate the actual data using a log-based modeling aproach.</p>"
   ]
  },
  {
   "attachments": {
    "linear_vs_logistic_regression.png": {
     "image/png": "[encoded data removed]"
    }
   },
   "cell_type": "markdown",
   "id": "32d539a4",
   "metadata": {},
   "source": [
    "![linear_vs_logistic_regression.png](attachment:linear_vs_logistic_regression.png)"
   ]
  },
  {
   "cell_type": "markdown",
   "id": "279823e5",
   "metadata": {},
   "source": [
    "In this notebook we will split our <code>SeriesCompPercent</code> outcome variable into two categories, a <b>binomial</b> variable. </p>\n",
    "\n",
    "<p>The census tracts that have a <code>SeriesCompPercent</code> will be categorized into a new outcome variable called <code>SeriesCompCat</code>. Census tracts with less than or equal to 40% of the population with a complete vaccination series will be given the value of 1, and the census tracts that have greater than 40% of their population vaccinated will be given a value of 0.</p>\n",
    "\n",
    "<p>Important note: In this case we want to look at census tracts with low vaccination rates. On average, ceneus tracts in our dataset have 46% of their population vaccinated. "
   ]
  },
  {
   "cell_type": "code",
   "execution_count": 19,
   "id": "e5df423c",
   "metadata": {},
   "outputs": [],
   "source": [
    "df['SeriesCompCat'] = df['SeriesCompPercent']\n",
    "# Set a binary outcome variable we will be modeling for\n",
    "df['SeriesCompCat'] = df['SeriesCompCat'].le(0.40) # .le() is setting all values less than or equal to 0.4 to True\n",
    "# Setting the column to an int type will mean <= 0.4 is 1 and > 0.4 is 0\n",
    "df['SeriesCompCat'] = df['SeriesCompCat'].astype(int)"
   ]
  },
  {
   "cell_type": "code",
   "execution_count": 20,
   "id": "47eaad9a",
   "metadata": {
    "scrolled": false
   },
   "outputs": [
    {
     "data": {
      "image/png": "[encoded data removed]",
      "text/plain": [
       "<Figure size 640x480 with 1 Axes>"
      ]
     },
     "metadata": {},
     "output_type": "display_data"
    },
    {
     "data": {
      "image/png": "[encoded data removed]",
      "text/plain": [
       "<Figure size 640x480 with 1 Axes>"
      ]
     },
     "metadata": {},
     "output_type": "display_data"
    },
    {
     "data": {
      "image/png": "[encoded data removed]",
      "text/plain": [
       "<Figure size 640x480 with 1 Axes>"
      ]
     },
     "metadata": {},
     "output_type": "display_data"
    },
    {
     "data": {
      "image/png": "[encoded data removed]",
      "text/plain": [
       "<Figure size 640x480 with 1 Axes>"
      ]
     },
     "metadata": {},
     "output_type": "display_data"
    },
    {
     "data": {
      "image/png": "[encoded data removed]",
      "text/plain": [
       "<Figure size 640x480 with 1 Axes>"
      ]
     },
     "metadata": {},
     "output_type": "display_data"
    }
   ],
   "source": [
    "import matplotlib.pyplot as plot\n",
    "import numpy as np\n",
    "\n",
    "df_plots = df[df.columns[5:10]]\n",
    "\n",
    "for i, col in enumerate(df_plots.columns):\n",
    "    plot.scatter(df_plots[col], df['SeriesCompCat'], color='orange')\n",
    "    plot.xlabel(df_plots[col].name)\n",
    "    plot.ylabel('Vaccination Series Complete Cutoff: 40%')\n",
    "    plot.show()"
   ]
  },
  {
   "cell_type": "markdown",
   "id": "4105cbfe",
   "metadata": {},
   "source": [
    "### Looking at our predictors"
   ]
  },
  {
   "attachments": {
    "black_pop_log_example.png": {
     "image/png": "[encoded data removed]"
    }
   },
   "cell_type": "markdown",
   "id": "196202ee",
   "metadata": {},
   "source": [
    "![black_pop_log_example.png](attachment:black_pop_log_example.png)"
   ]
  },
  {
   "cell_type": "markdown",
   "id": "5d24cdd0",
   "metadata": {},
   "source": [
    "### Statsmodels\n",
    "\n",
    "Now let's start creating some models."
   ]
  },
  {
   "cell_type": "code",
   "execution_count": 21,
   "id": "7a845873",
   "metadata": {},
   "outputs": [],
   "source": [
    "import statsmodels.formula.api as smf\n",
    "import statsmodels.api as sm"
   ]
  },
  {
   "cell_type": "markdown",
   "id": "d7c8692e",
   "metadata": {},
   "source": [
    "### First Logistic Model\n",
    "\n",
    "<p>In linear modeling we used <code>smf.ols()</code>, where ols stands for ordinary least squares regression modeling. For logistic modeling, we are using <code>smf.glm()</code> where glm stands for generalize linear model. Also note we need to specify <code>family=sm.families.Binomial()</code> in order to fit a binomial logistic model.</p>\n"
   ]
  },
  {
   "cell_type": "code",
   "execution_count": 22,
   "id": "592d5c10",
   "metadata": {
    "scrolled": false
   },
   "outputs": [
    {
     "data": {
      "text/html": [
       "<table class=\"simpletable\">\n",
       "<caption>Generalized Linear Model Regression Results</caption>\n",
       "<tr>\n",
       "  <th>Dep. Variable:</th>     <td>SeriesCompCat</td>  <th>  No. Observations:  </th>  <td>   170</td> \n",
       "</tr>\n",
       "<tr>\n",
       "  <th>Model:</th>                  <td>GLM</td>       <th>  Df Residuals:      </th>  <td>   164</td> \n",
       "</tr>\n",
       "<tr>\n",
       "  <th>Model Family:</th>        <td>Binomial</td>     <th>  Df Model:          </th>  <td>     5</td> \n",
       "</tr>\n",
       "<tr>\n",
       "  <th>Link Function:</th>         <td>logit</td>      <th>  Scale:             </th> <td>  1.0000</td>\n",
       "</tr>\n",
       "<tr>\n",
       "  <th>Method:</th>                <td>IRLS</td>       <th>  Log-Likelihood:    </th> <td> -66.103</td>\n",
       "</tr>\n",
       "<tr>\n",
       "  <th>Date:</th>            <td>Wed, 21 Jul 2021</td> <th>  Deviance:          </th> <td>  132.21</td>\n",
       "</tr>\n",
       "<tr>\n",
       "  <th>Time:</th>                <td>12:03:23</td>     <th>  Pearson chi2:      </th>  <td>  142.</td> \n",
       "</tr>\n",
       "<tr>\n",
       "  <th>No. Iterations:</th>          <td>7</td>        <th>                     </th>     <td> </td>   \n",
       "</tr>\n",
       "<tr>\n",
       "  <th>Covariance Type:</th>     <td>nonrobust</td>    <th>                     </th>     <td> </td>   \n",
       "</tr>\n",
       "</table>\n",
       "<table class=\"simpletable\">\n",
       "<tr>\n",
       "                                    <td></td>                                       <th>coef</th>     <th>std err</th>      <th>z</th>      <th>P>|z|</th>  <th>[0.025</th>    <th>0.975]</th>  \n",
       "</tr>\n",
       "<tr>\n",
       "  <th>Intercept</th>                                                             <td>    0.8900</td> <td>    3.881</td> <td>    0.229</td> <td> 0.819</td> <td>   -6.717</td> <td>    8.497</td>\n",
       "</tr>\n",
       "<tr>\n",
       "  <th>Q(\"No Vehicle Household Percent\")</th>                                     <td>   -0.0410</td> <td>    0.025</td> <td>   -1.614</td> <td> 0.107</td> <td>   -0.091</td> <td>    0.009</td>\n",
       "</tr>\n",
       "<tr>\n",
       "  <th>Q(\"Median Household Income\")</th>                                          <td>-4.912e-05</td> <td> 2.56e-05</td> <td>   -1.921</td> <td> 0.055</td> <td>-9.92e-05</td> <td> 9.85e-07</td>\n",
       "</tr>\n",
       "<tr>\n",
       "  <th>Q(\"Labor Force Participation 16 and Older Percent\")</th>                   <td>   -0.0454</td> <td>    0.028</td> <td>   -1.646</td> <td> 0.100</td> <td>   -0.099</td> <td>    0.009</td>\n",
       "</tr>\n",
       "<tr>\n",
       "  <th>Q(\"Population High School Graduate or Equivalency or Higher Percent\")</th> <td>    0.0178</td> <td>    0.036</td> <td>    0.491</td> <td> 0.623</td> <td>   -0.053</td> <td>    0.089</td>\n",
       "</tr>\n",
       "<tr>\n",
       "  <th>Q(\"Black Percent\")</th>                                                    <td>    0.0433</td> <td>    0.014</td> <td>    3.167</td> <td> 0.002</td> <td>    0.016</td> <td>    0.070</td>\n",
       "</tr>\n",
       "</table>"
      ],
      "text/plain": [
       "<class 'statsmodels.iolib.summary.Summary'>\n",
       "\"\"\"\n",
       "                 Generalized Linear Model Regression Results                  \n",
       "==============================================================================\n",
       "Dep. Variable:          SeriesCompCat   No. Observations:                  170\n",
       "Model:                            GLM   Df Residuals:                      164\n",
       "Model Family:                Binomial   Df Model:                            5\n",
       "Link Function:                  logit   Scale:                          1.0000\n",
       "Method:                          IRLS   Log-Likelihood:                -66.103\n",
       "Date:                Wed, 21 Jul 2021   Deviance:                       132.21\n",
       "Time:                        12:03:23   Pearson chi2:                     142.\n",
       "No. Iterations:                     7                                         \n",
       "Covariance Type:            nonrobust                                         \n",
       "=========================================================================================================================================\n",
       "                                                                            coef    std err          z      P>|z|      [0.025      0.975]\n",
       "-----------------------------------------------------------------------------------------------------------------------------------------\n",
       "Intercept                                                                 0.8900      3.881      0.229      0.819      -6.717       8.497\n",
       "Q(\"No Vehicle Household Percent\")                                        -0.0410      0.025     -1.614      0.107      -0.091       0.009\n",
       "Q(\"Median Household Income\")                                          -4.912e-05   2.56e-05     -1.921      0.055   -9.92e-05    9.85e-07\n",
       "Q(\"Labor Force Participation 16 and Older Percent\")                      -0.0454      0.028     -1.646      0.100      -0.099       0.009\n",
       "Q(\"Population High School Graduate or Equivalency or Higher Percent\")     0.0178      0.036      0.491      0.623      -0.053       0.089\n",
       "Q(\"Black Percent\")                                                        0.0433      0.014      3.167      0.002       0.016       0.070\n",
       "=========================================================================================================================================\n",
       "\"\"\""
      ]
     },
     "execution_count": 22,
     "metadata": {},
     "output_type": "execute_result"
    }
   ],
   "source": [
    "model_1 = '''SeriesCompCat ~ \n",
    "            Q(\"No Vehicle Household Percent\") + \n",
    "            Q(\"Median Household Income\") +\n",
    "            Q(\"Labor Force Participation 16 and Older Percent\") + \n",
    "            Q(\"Population High School Graduate or Equivalency or Higher Percent\") +\n",
    "            Q(\"Black Percent\")'''\n",
    "est_1 = smf.glm(model_1, family=sm.families.Binomial(), data=df).fit() # Note use of patsy.builtins.Q https://patsy.readthedocs.io/en/latest/builtins-reference.html#patsy.builtins.Q\n",
    "est_1.summary()"
   ]
  },
  {
   "cell_type": "markdown",
   "id": "e8b86ef3",
   "metadata": {},
   "source": [
    "<p>Take a look at the results and see what you can tell abou the data from what we learned in the previous notebook on linear modeling. What predictors are statistically significant?</p>"
   ]
  },
  {
   "cell_type": "markdown",
   "id": "b5db3d53",
   "metadata": {},
   "source": [
    "### What does it tell us?\n",
    "\n",
    "<p>A single log model results are not possible to interpret as to how well the model fits using just the summary results. We can say that <code>Population High School Graducate or Equivalency or Higher Percent</code> and <code>Labor Force Participation 16 and Older Percent</code> are not significant by observing that their <b>p-values</b> are greater than 0.05.</p>"
   ]
  },
  {
   "cell_type": "markdown",
   "id": "572fca12",
   "metadata": {},
   "source": [
    "### What else doe sit tell us?\n",
    "<p> The other important part of the results to pay attention to is the <b>Log-Likelihood</b>."
   ]
  },
  {
   "cell_type": "code",
   "execution_count": 23,
   "id": "9b1b7047",
   "metadata": {
    "scrolled": false
   },
   "outputs": [
    {
     "name": "stdout",
     "output_type": "stream",
     "text": [
      "Optimization terminated successfully.\n",
      "         Current function value: 0.388838\n",
      "         Iterations 8\n"
     ]
    },
    {
     "data": {
      "text/html": [
       "<table class=\"simpletable\">\n",
       "<caption>Logit Regression Results</caption>\n",
       "<tr>\n",
       "  <th>Dep. Variable:</th>     <td>SeriesCompCat</td>  <th>  No. Observations:  </th>  <td>   170</td>  \n",
       "</tr>\n",
       "<tr>\n",
       "  <th>Model:</th>                 <td>Logit</td>      <th>  Df Residuals:      </th>  <td>   164</td>  \n",
       "</tr>\n",
       "<tr>\n",
       "  <th>Method:</th>                 <td>MLE</td>       <th>  Df Model:          </th>  <td>     5</td>  \n",
       "</tr>\n",
       "<tr>\n",
       "  <th>Date:</th>            <td>Wed, 21 Jul 2021</td> <th>  Pseudo R-squ.:     </th>  <td>0.4201</td>  \n",
       "</tr>\n",
       "<tr>\n",
       "  <th>Time:</th>                <td>12:03:23</td>     <th>  Log-Likelihood:    </th> <td> -66.103</td> \n",
       "</tr>\n",
       "<tr>\n",
       "  <th>converged:</th>             <td>True</td>       <th>  LL-Null:           </th> <td> -113.99</td> \n",
       "</tr>\n",
       "<tr>\n",
       "  <th>Covariance Type:</th>     <td>nonrobust</td>    <th>  LLR p-value:       </th> <td>4.085e-19</td>\n",
       "</tr>\n",
       "</table>\n",
       "<table class=\"simpletable\">\n",
       "<tr>\n",
       "                                    <td></td>                                       <th>coef</th>     <th>std err</th>      <th>z</th>      <th>P>|z|</th>  <th>[0.025</th>    <th>0.975]</th>  \n",
       "</tr>\n",
       "<tr>\n",
       "  <th>Intercept</th>                                                             <td>    0.8900</td> <td>    3.881</td> <td>    0.229</td> <td> 0.819</td> <td>   -6.717</td> <td>    8.497</td>\n",
       "</tr>\n",
       "<tr>\n",
       "  <th>Q(\"No Vehicle Household Percent\")</th>                                     <td>   -0.0410</td> <td>    0.025</td> <td>   -1.614</td> <td> 0.107</td> <td>   -0.091</td> <td>    0.009</td>\n",
       "</tr>\n",
       "<tr>\n",
       "  <th>Q(\"Median Household Income\")</th>                                          <td>-4.912e-05</td> <td> 2.56e-05</td> <td>   -1.921</td> <td> 0.055</td> <td>-9.92e-05</td> <td> 9.85e-07</td>\n",
       "</tr>\n",
       "<tr>\n",
       "  <th>Q(\"Labor Force Participation 16 and Older Percent\")</th>                   <td>   -0.0454</td> <td>    0.028</td> <td>   -1.646</td> <td> 0.100</td> <td>   -0.099</td> <td>    0.009</td>\n",
       "</tr>\n",
       "<tr>\n",
       "  <th>Q(\"Population High School Graduate or Equivalency or Higher Percent\")</th> <td>    0.0178</td> <td>    0.036</td> <td>    0.491</td> <td> 0.623</td> <td>   -0.053</td> <td>    0.089</td>\n",
       "</tr>\n",
       "<tr>\n",
       "  <th>Q(\"Black Percent\")</th>                                                    <td>    0.0433</td> <td>    0.014</td> <td>    3.167</td> <td> 0.002</td> <td>    0.016</td> <td>    0.070</td>\n",
       "</tr>\n",
       "</table>"
      ],
      "text/plain": [
       "<class 'statsmodels.iolib.summary.Summary'>\n",
       "\"\"\"\n",
       "                           Logit Regression Results                           \n",
       "==============================================================================\n",
       "Dep. Variable:          SeriesCompCat   No. Observations:                  170\n",
       "Model:                          Logit   Df Residuals:                      164\n",
       "Method:                           MLE   Df Model:                            5\n",
       "Date:                Wed, 21 Jul 2021   Pseudo R-squ.:                  0.4201\n",
       "Time:                        12:03:23   Log-Likelihood:                -66.103\n",
       "converged:                       True   LL-Null:                       -113.99\n",
       "Covariance Type:            nonrobust   LLR p-value:                 4.085e-19\n",
       "=========================================================================================================================================\n",
       "                                                                            coef    std err          z      P>|z|      [0.025      0.975]\n",
       "-----------------------------------------------------------------------------------------------------------------------------------------\n",
       "Intercept                                                                 0.8900      3.881      0.229      0.819      -6.717       8.497\n",
       "Q(\"No Vehicle Household Percent\")                                        -0.0410      0.025     -1.614      0.107      -0.091       0.009\n",
       "Q(\"Median Household Income\")                                          -4.912e-05   2.56e-05     -1.921      0.055   -9.92e-05    9.85e-07\n",
       "Q(\"Labor Force Participation 16 and Older Percent\")                      -0.0454      0.028     -1.646      0.100      -0.099       0.009\n",
       "Q(\"Population High School Graduate or Equivalency or Higher Percent\")     0.0178      0.036      0.491      0.623      -0.053       0.089\n",
       "Q(\"Black Percent\")                                                        0.0433      0.014      3.167      0.002       0.016       0.070\n",
       "=========================================================================================================================================\n",
       "\"\"\""
      ]
     },
     "execution_count": 23,
     "metadata": {},
     "output_type": "execute_result"
    }
   ],
   "source": [
    "model_1 = '''SeriesCompCat ~ \n",
    "            Q(\"No Vehicle Household Percent\") + \n",
    "            Q(\"Median Household Income\") +\n",
    "            Q(\"Labor Force Participation 16 and Older Percent\") + \n",
    "            Q(\"Population High School Graduate or Equivalency or Higher Percent\") +\n",
    "            Q(\"Black Percent\")'''\n",
    "est_1 = smf.logit(model_1, df).fit() # Note use of patsy.builtins.Q https://patsy.readthedocs.io/en/latest/builtins-reference.html#patsy.builtins.Q\n",
    "est_1.summary()"
   ]
  },
  {
   "cell_type": "code",
   "execution_count": 24,
   "id": "c7898133",
   "metadata": {
    "scrolled": false
   },
   "outputs": [
    {
     "name": "stdout",
     "output_type": "stream",
     "text": [
      "Optimization terminated successfully.\n",
      "         Current function value: 0.397232\n",
      "         Iterations 8\n"
     ]
    },
    {
     "data": {
      "text/html": [
       "<table class=\"simpletable\">\n",
       "<caption>Logit Regression Results</caption>\n",
       "<tr>\n",
       "  <th>Dep. Variable:</th>     <td>SeriesCompCat</td>  <th>  No. Observations:  </th>  <td>   170</td>  \n",
       "</tr>\n",
       "<tr>\n",
       "  <th>Model:</th>                 <td>Logit</td>      <th>  Df Residuals:      </th>  <td>   166</td>  \n",
       "</tr>\n",
       "<tr>\n",
       "  <th>Method:</th>                 <td>MLE</td>       <th>  Df Model:          </th>  <td>     3</td>  \n",
       "</tr>\n",
       "<tr>\n",
       "  <th>Date:</th>            <td>Wed, 21 Jul 2021</td> <th>  Pseudo R-squ.:     </th>  <td>0.4076</td>  \n",
       "</tr>\n",
       "<tr>\n",
       "  <th>Time:</th>                <td>12:03:23</td>     <th>  Log-Likelihood:    </th> <td> -67.529</td> \n",
       "</tr>\n",
       "<tr>\n",
       "  <th>converged:</th>             <td>True</td>       <th>  LL-Null:           </th> <td> -113.99</td> \n",
       "</tr>\n",
       "<tr>\n",
       "  <th>Covariance Type:</th>     <td>nonrobust</td>    <th>  LLR p-value:       </th> <td>5.143e-20</td>\n",
       "</tr>\n",
       "</table>\n",
       "<table class=\"simpletable\">\n",
       "<tr>\n",
       "                  <td></td>                     <th>coef</th>     <th>std err</th>      <th>z</th>      <th>P>|z|</th>  <th>[0.025</th>    <th>0.975]</th>  \n",
       "</tr>\n",
       "<tr>\n",
       "  <th>Intercept</th>                         <td>   -0.5944</td> <td>    1.993</td> <td>   -0.298</td> <td> 0.765</td> <td>   -4.500</td> <td>    3.311</td>\n",
       "</tr>\n",
       "<tr>\n",
       "  <th>Q(\"No Vehicle Household Percent\")</th> <td>   -0.0399</td> <td>    0.023</td> <td>   -1.724</td> <td> 0.085</td> <td>   -0.085</td> <td>    0.005</td>\n",
       "</tr>\n",
       "<tr>\n",
       "  <th>Q(\"Median Household Income\")</th>      <td>-5.312e-05</td> <td> 2.53e-05</td> <td>   -2.097</td> <td> 0.036</td> <td>   -0.000</td> <td>-3.46e-06</td>\n",
       "</tr>\n",
       "<tr>\n",
       "  <th>Q(\"Black Percent\")</th>                <td>    0.0477</td> <td>    0.014</td> <td>    3.505</td> <td> 0.000</td> <td>    0.021</td> <td>    0.074</td>\n",
       "</tr>\n",
       "</table>"
      ],
      "text/plain": [
       "<class 'statsmodels.iolib.summary.Summary'>\n",
       "\"\"\"\n",
       "                           Logit Regression Results                           \n",
       "==============================================================================\n",
       "Dep. Variable:          SeriesCompCat   No. Observations:                  170\n",
       "Model:                          Logit   Df Residuals:                      166\n",
       "Method:                           MLE   Df Model:                            3\n",
       "Date:                Wed, 21 Jul 2021   Pseudo R-squ.:                  0.4076\n",
       "Time:                        12:03:23   Log-Likelihood:                -67.529\n",
       "converged:                       True   LL-Null:                       -113.99\n",
       "Covariance Type:            nonrobust   LLR p-value:                 5.143e-20\n",
       "=====================================================================================================\n",
       "                                        coef    std err          z      P>|z|      [0.025      0.975]\n",
       "-----------------------------------------------------------------------------------------------------\n",
       "Intercept                            -0.5944      1.993     -0.298      0.765      -4.500       3.311\n",
       "Q(\"No Vehicle Household Percent\")    -0.0399      0.023     -1.724      0.085      -0.085       0.005\n",
       "Q(\"Median Household Income\")      -5.312e-05   2.53e-05     -2.097      0.036      -0.000   -3.46e-06\n",
       "Q(\"Black Percent\")                    0.0477      0.014      3.505      0.000       0.021       0.074\n",
       "=====================================================================================================\n",
       "\"\"\""
      ]
     },
     "execution_count": 24,
     "metadata": {},
     "output_type": "execute_result"
    }
   ],
   "source": [
    "model_1 = '''SeriesCompCat ~ \n",
    "            Q(\"No Vehicle Household Percent\") + \n",
    "            Q(\"Median Household Income\") +\n",
    "            Q(\"Black Percent\")'''\n",
    "est_1 = smf.logit(model_1, df).fit() # Note use of patsy.builtins.Q https://patsy.readthedocs.io/en/latest/builtins-reference.html#patsy.builtins.Q\n",
    "est_1.summary()"
   ]
  },
  {
   "cell_type": "code",
   "execution_count": 25,
   "id": "ff561f78",
   "metadata": {
    "scrolled": false
   },
   "outputs": [
    {
     "name": "stdout",
     "output_type": "stream",
     "text": [
      "Optimization terminated successfully.\n",
      "         Current function value: 0.418942\n",
      "         Iterations 7\n"
     ]
    },
    {
     "data": {
      "text/html": [
       "<table class=\"simpletable\">\n",
       "<caption>Logit Regression Results</caption>\n",
       "<tr>\n",
       "  <th>Dep. Variable:</th>     <td>SeriesCompCat</td>  <th>  No. Observations:  </th>  <td>   174</td>  \n",
       "</tr>\n",
       "<tr>\n",
       "  <th>Model:</th>                 <td>Logit</td>      <th>  Df Residuals:      </th>  <td>   172</td>  \n",
       "</tr>\n",
       "<tr>\n",
       "  <th>Method:</th>                 <td>MLE</td>       <th>  Df Model:          </th>  <td>     1</td>  \n",
       "</tr>\n",
       "<tr>\n",
       "  <th>Date:</th>            <td>Wed, 21 Jul 2021</td> <th>  Pseudo R-squ.:     </th>  <td>0.3739</td>  \n",
       "</tr>\n",
       "<tr>\n",
       "  <th>Time:</th>                <td>12:03:23</td>     <th>  Log-Likelihood:    </th> <td> -72.896</td> \n",
       "</tr>\n",
       "<tr>\n",
       "  <th>converged:</th>             <td>True</td>       <th>  LL-Null:           </th> <td> -116.42</td> \n",
       "</tr>\n",
       "<tr>\n",
       "  <th>Covariance Type:</th>     <td>nonrobust</td>    <th>  LLR p-value:       </th> <td>1.054e-20</td>\n",
       "</tr>\n",
       "</table>\n",
       "<table class=\"simpletable\">\n",
       "<tr>\n",
       "           <td></td>             <th>coef</th>     <th>std err</th>      <th>z</th>      <th>P>|z|</th>  <th>[0.025</th>    <th>0.975]</th>  \n",
       "</tr>\n",
       "<tr>\n",
       "  <th>Intercept</th>          <td>   -4.7698</td> <td>    0.786</td> <td>   -6.066</td> <td> 0.000</td> <td>   -6.311</td> <td>   -3.229</td>\n",
       "</tr>\n",
       "<tr>\n",
       "  <th>Q(\"Black Percent\")</th> <td>    0.0660</td> <td>    0.010</td> <td>    6.391</td> <td> 0.000</td> <td>    0.046</td> <td>    0.086</td>\n",
       "</tr>\n",
       "</table>"
      ],
      "text/plain": [
       "<class 'statsmodels.iolib.summary.Summary'>\n",
       "\"\"\"\n",
       "                           Logit Regression Results                           \n",
       "==============================================================================\n",
       "Dep. Variable:          SeriesCompCat   No. Observations:                  174\n",
       "Model:                          Logit   Df Residuals:                      172\n",
       "Method:                           MLE   Df Model:                            1\n",
       "Date:                Wed, 21 Jul 2021   Pseudo R-squ.:                  0.3739\n",
       "Time:                        12:03:23   Log-Likelihood:                -72.896\n",
       "converged:                       True   LL-Null:                       -116.42\n",
       "Covariance Type:            nonrobust   LLR p-value:                 1.054e-20\n",
       "======================================================================================\n",
       "                         coef    std err          z      P>|z|      [0.025      0.975]\n",
       "--------------------------------------------------------------------------------------\n",
       "Intercept             -4.7698      0.786     -6.066      0.000      -6.311      -3.229\n",
       "Q(\"Black Percent\")     0.0660      0.010      6.391      0.000       0.046       0.086\n",
       "======================================================================================\n",
       "\"\"\""
      ]
     },
     "execution_count": 25,
     "metadata": {},
     "output_type": "execute_result"
    }
   ],
   "source": [
    "model_2 = '''SeriesCompCat ~ \n",
    "            Q(\"Black Percent\")'''\n",
    "est_2 = smf.logit(model_2, df).fit() # Note use of patsy.builtins.Q https://patsy.readthedocs.io/en/latest/builtins-reference.html#patsy.builtins.Q\n",
    "est_2.summary()"
   ]
  },
  {
   "cell_type": "markdown",
   "id": "e81fdd89",
   "metadata": {},
   "source": [
    "<p>Creating a new dataframe with a Black population of 95% as a predictor for a census tract, we can see what results our model gives.</p>\n",
    "\n",
    "<p>In this case, the probability of the census tract having less than or equal to 40% of the population vaccinatied fully vaccinated is 81.8%.</p>\n",
    "\n",
    "<p>Note: Previously less than or equal to 40% was set to to 1 and less to 0. The <code>predict()</code> function gives the probability of the outcome variable being 1 based on the predictor we given.</p>"
   ]
  },
  {
   "cell_type": "code",
   "execution_count": 26,
   "id": "e763517d",
   "metadata": {},
   "outputs": [
    {
     "data": {
      "text/plain": [
       "0    0.817581\n",
       "dtype: float64"
      ]
     },
     "execution_count": 26,
     "metadata": {},
     "output_type": "execute_result"
    }
   ],
   "source": [
    "newpred = pd.DataFrame({'Black Percent': [95]})\n",
    "est_2.predict(newpred)"
   ]
  },
  {
   "cell_type": "markdown",
   "id": "58f0b731",
   "metadata": {},
   "source": [
    "<p>Going to the other extreme and using a Black population of only 3%, the prediction is that the liklihood \n",
    "    "
   ]
  },
  {
   "cell_type": "code",
   "execution_count": 27,
   "id": "7cb128d8",
   "metadata": {},
   "outputs": [
    {
     "data": {
      "text/plain": [
       "0    0.010234\n",
       "dtype: float64"
      ]
     },
     "execution_count": 27,
     "metadata": {},
     "output_type": "execute_result"
    }
   ],
   "source": [
    "newpred = pd.DataFrame({'Black Percent': [3]})\n",
    "est_2.predict(newpred)"
   ]
  },
  {
   "cell_type": "code",
   "execution_count": 28,
   "id": "9b55978e",
   "metadata": {},
   "outputs": [
    {
     "data": {
      "text/html": [
       "<div>\n",
       "<style scoped>\n",
       "    .dataframe tbody tr th:only-of-type {\n",
       "        vertical-align: middle;\n",
       "    }\n",
       "\n",
       "    .dataframe tbody tr th {\n",
       "        vertical-align: top;\n",
       "    }\n",
       "\n",
       "    .dataframe thead th {\n",
       "        text-align: right;\n",
       "    }\n",
       "</style>\n",
       "<table border=\"1\" class=\"dataframe\">\n",
       "  <thead>\n",
       "    <tr style=\"text-align: right;\">\n",
       "      <th></th>\n",
       "      <th>Lat</th>\n",
       "      <th>Long</th>\n",
       "      <th>SeriesInt</th>\n",
       "      <th>SeriesComp</th>\n",
       "      <th>SeriesCompPercent</th>\n",
       "      <th>Labor Force Participation 16 and Older Percent</th>\n",
       "      <th>Median Household Income</th>\n",
       "      <th>Black Percent</th>\n",
       "      <th>No Vehicle Household Percent</th>\n",
       "      <th>Population High School Graduate or Equivalency or Higher Percent</th>\n",
       "      <th>id</th>\n",
       "      <th>SeriesCompCat</th>\n",
       "    </tr>\n",
       "  </thead>\n",
       "  <tbody>\n",
       "    <tr>\n",
       "      <th>0</th>\n",
       "      <td>29.953106</td>\n",
       "      <td>-90.052071</td>\n",
       "      <td>1281.0</td>\n",
       "      <td>1201.0</td>\n",
       "      <td>0.439122</td>\n",
       "      <td>68.1</td>\n",
       "      <td>78500.0</td>\n",
       "      <td>9.133127</td>\n",
       "      <td>4.200323</td>\n",
       "      <td>99.1</td>\n",
       "      <td>1400000US22071000100</td>\n",
       "      <td>0</td>\n",
       "    </tr>\n",
       "    <tr>\n",
       "      <th>1</th>\n",
       "      <td>29.945894</td>\n",
       "      <td>-90.052353</td>\n",
       "      <td>472.0</td>\n",
       "      <td>438.0</td>\n",
       "      <td>0.257042</td>\n",
       "      <td>67.4</td>\n",
       "      <td>27125.0</td>\n",
       "      <td>72.878536</td>\n",
       "      <td>25.364964</td>\n",
       "      <td>81.4</td>\n",
       "      <td>1400000US22071000200</td>\n",
       "      <td>1</td>\n",
       "    </tr>\n",
       "    <tr>\n",
       "      <th>2</th>\n",
       "      <td>29.940950</td>\n",
       "      <td>-90.048988</td>\n",
       "      <td>452.0</td>\n",
       "      <td>403.0</td>\n",
       "      <td>0.319082</td>\n",
       "      <td>72.5</td>\n",
       "      <td>35031.0</td>\n",
       "      <td>90.227774</td>\n",
       "      <td>33.059548</td>\n",
       "      <td>85.7</td>\n",
       "      <td>1400000US22071000300</td>\n",
       "      <td>1</td>\n",
       "    </tr>\n",
       "    <tr>\n",
       "      <th>3</th>\n",
       "      <td>29.946333</td>\n",
       "      <td>-90.042480</td>\n",
       "      <td>865.0</td>\n",
       "      <td>787.0</td>\n",
       "      <td>0.405252</td>\n",
       "      <td>62.9</td>\n",
       "      <td>39271.0</td>\n",
       "      <td>78.575116</td>\n",
       "      <td>22.180917</td>\n",
       "      <td>86.1</td>\n",
       "      <td>1400000US22071000400</td>\n",
       "      <td>0</td>\n",
       "    </tr>\n",
       "    <tr>\n",
       "      <th>4</th>\n",
       "      <td>29.932783</td>\n",
       "      <td>-90.040955</td>\n",
       "      <td>289.0</td>\n",
       "      <td>253.0</td>\n",
       "      <td>0.310049</td>\n",
       "      <td>50.1</td>\n",
       "      <td>11973.0</td>\n",
       "      <td>97.481637</td>\n",
       "      <td>30.174564</td>\n",
       "      <td>68.1</td>\n",
       "      <td>1400000US22071000601</td>\n",
       "      <td>1</td>\n",
       "    </tr>\n",
       "    <tr>\n",
       "      <th>...</th>\n",
       "      <td>...</td>\n",
       "      <td>...</td>\n",
       "      <td>...</td>\n",
       "      <td>...</td>\n",
       "      <td>...</td>\n",
       "      <td>...</td>\n",
       "      <td>...</td>\n",
       "      <td>...</td>\n",
       "      <td>...</td>\n",
       "      <td>...</td>\n",
       "      <td>...</td>\n",
       "      <td>...</td>\n",
       "    </tr>\n",
       "    <tr>\n",
       "      <th>172</th>\n",
       "      <td>29.913809</td>\n",
       "      <td>-90.114716</td>\n",
       "      <td>978.0</td>\n",
       "      <td>921.0</td>\n",
       "      <td>0.534533</td>\n",
       "      <td>77.1</td>\n",
       "      <td>66250.0</td>\n",
       "      <td>25.822168</td>\n",
       "      <td>7.539683</td>\n",
       "      <td>92.5</td>\n",
       "      <td>1400000US22071014400</td>\n",
       "      <td>0</td>\n",
       "    </tr>\n",
       "    <tr>\n",
       "      <th>173</th>\n",
       "      <td>29.960629</td>\n",
       "      <td>-90.095009</td>\n",
       "      <td>214.0</td>\n",
       "      <td>190.0</td>\n",
       "      <td>0.075517</td>\n",
       "      <td>0.0</td>\n",
       "      <td>NaN</td>\n",
       "      <td>84.785493</td>\n",
       "      <td>NaN</td>\n",
       "      <td>55.9</td>\n",
       "      <td>1400000US22071014500</td>\n",
       "      <td>1</td>\n",
       "    </tr>\n",
       "    <tr>\n",
       "      <th>174</th>\n",
       "      <td>30.001497</td>\n",
       "      <td>-90.093094</td>\n",
       "      <td>NaN</td>\n",
       "      <td>NaN</td>\n",
       "      <td>NaN</td>\n",
       "      <td>50.0</td>\n",
       "      <td>NaN</td>\n",
       "      <td>20.000000</td>\n",
       "      <td>NaN</td>\n",
       "      <td>100.0</td>\n",
       "      <td>1400000US22071980000</td>\n",
       "      <td>0</td>\n",
       "    </tr>\n",
       "    <tr>\n",
       "      <th>175</th>\n",
       "      <td>30.004488</td>\n",
       "      <td>-89.915703</td>\n",
       "      <td>NaN</td>\n",
       "      <td>NaN</td>\n",
       "      <td>NaN</td>\n",
       "      <td>NaN</td>\n",
       "      <td>NaN</td>\n",
       "      <td>NaN</td>\n",
       "      <td>NaN</td>\n",
       "      <td>NaN</td>\n",
       "      <td>1400000US22071980100</td>\n",
       "      <td>0</td>\n",
       "    </tr>\n",
       "    <tr>\n",
       "      <th>176</th>\n",
       "      <td>30.121422</td>\n",
       "      <td>-89.972870</td>\n",
       "      <td>NaN</td>\n",
       "      <td>NaN</td>\n",
       "      <td>NaN</td>\n",
       "      <td>NaN</td>\n",
       "      <td>NaN</td>\n",
       "      <td>NaN</td>\n",
       "      <td>NaN</td>\n",
       "      <td>NaN</td>\n",
       "      <td>1400000US22071990000</td>\n",
       "      <td>0</td>\n",
       "    </tr>\n",
       "  </tbody>\n",
       "</table>\n",
       "<p>177 rows × 12 columns</p>\n",
       "</div>"
      ],
      "text/plain": [
       "           Lat       Long  SeriesInt  SeriesComp  SeriesCompPercent  \\\n",
       "0    29.953106 -90.052071     1281.0      1201.0           0.439122   \n",
       "1    29.945894 -90.052353      472.0       438.0           0.257042   \n",
       "2    29.940950 -90.048988      452.0       403.0           0.319082   \n",
       "3    29.946333 -90.042480      865.0       787.0           0.405252   \n",
       "4    29.932783 -90.040955      289.0       253.0           0.310049   \n",
       "..         ...        ...        ...         ...                ...   \n",
       "172  29.913809 -90.114716      978.0       921.0           0.534533   \n",
       "173  29.960629 -90.095009      214.0       190.0           0.075517   \n",
       "174  30.001497 -90.093094        NaN         NaN                NaN   \n",
       "175  30.004488 -89.915703        NaN         NaN                NaN   \n",
       "176  30.121422 -89.972870        NaN         NaN                NaN   \n",
       "\n",
       "     Labor Force Participation 16 and Older Percent  Median Household Income  \\\n",
       "0                                              68.1                  78500.0   \n",
       "1                                              67.4                  27125.0   \n",
       "2                                              72.5                  35031.0   \n",
       "3                                              62.9                  39271.0   \n",
       "4                                              50.1                  11973.0   \n",
       "..                                              ...                      ...   \n",
       "172                                            77.1                  66250.0   \n",
       "173                                             0.0                      NaN   \n",
       "174                                            50.0                      NaN   \n",
       "175                                             NaN                      NaN   \n",
       "176                                             NaN                      NaN   \n",
       "\n",
       "     Black Percent  No Vehicle Household Percent  \\\n",
       "0         9.133127                      4.200323   \n",
       "1        72.878536                     25.364964   \n",
       "2        90.227774                     33.059548   \n",
       "3        78.575116                     22.180917   \n",
       "4        97.481637                     30.174564   \n",
       "..             ...                           ...   \n",
       "172      25.822168                      7.539683   \n",
       "173      84.785493                           NaN   \n",
       "174      20.000000                           NaN   \n",
       "175            NaN                           NaN   \n",
       "176            NaN                           NaN   \n",
       "\n",
       "     Population High School Graduate or Equivalency or Higher Percent  \\\n",
       "0                                                 99.1                  \n",
       "1                                                 81.4                  \n",
       "2                                                 85.7                  \n",
       "3                                                 86.1                  \n",
       "4                                                 68.1                  \n",
       "..                                                 ...                  \n",
       "172                                               92.5                  \n",
       "173                                               55.9                  \n",
       "174                                              100.0                  \n",
       "175                                                NaN                  \n",
       "176                                                NaN                  \n",
       "\n",
       "                       id  SeriesCompCat  \n",
       "0    1400000US22071000100              0  \n",
       "1    1400000US22071000200              1  \n",
       "2    1400000US22071000300              1  \n",
       "3    1400000US22071000400              0  \n",
       "4    1400000US22071000601              1  \n",
       "..                    ...            ...  \n",
       "172  1400000US22071014400              0  \n",
       "173  1400000US22071014500              1  \n",
       "174  1400000US22071980000              0  \n",
       "175  1400000US22071980100              0  \n",
       "176  1400000US22071990000              0  \n",
       "\n",
       "[177 rows x 12 columns]"
      ]
     },
     "execution_count": 28,
     "metadata": {},
     "output_type": "execute_result"
    }
   ],
   "source": [
    "df"
   ]
  },
  {
   "cell_type": "markdown",
   "id": "d12d205a",
   "metadata": {},
   "source": [
    "### Scikit-learn\n",
    "\n",
    "Let's try to do the same thing using <code>Scikit-learn</code>. <code>Scikit-learn</code> is a more Pythonic library compared to <code>Statsmodels</code>. <code>Sklearn</code> will also allow us to build train a model, make predictions using simple functions from the library.</p>"
   ]
  },
  {
   "cell_type": "markdown",
   "id": "c0bc5b1d",
   "metadata": {},
   "source": [
    "<p>With <code>Scikit-learn</code> we will need to split the dataframe into the predictor (AKA independent or features) and outcome (AKA dependent or target) variables.</p>\n",
    "\n",
    "<p>It must be noted that with <code>sklearn</code> we need to either impute missing data or drop them from the dataframe. <code>Statsmodels</code> automatically drops missing data from the dataframe before, but with <code>sklearn</code> we will need to do it manually. We are opting to not impute data for simplicity of this notebook.</p>"
   ]
  },
  {
   "cell_type": "code",
   "execution_count": 29,
   "id": "9ebd0379",
   "metadata": {},
   "outputs": [],
   "source": [
    "df_omit = df.dropna() # Drop rows with missing data"
   ]
  },
  {
   "cell_type": "code",
   "execution_count": 30,
   "id": "5e40a57a",
   "metadata": {},
   "outputs": [],
   "source": [
    "predictor_cols = ['Labor Force Participation 16 and Older Percent', \n",
    "                  'Median Household Income', \n",
    "                  'Black Percent',\n",
    "                  'No Vehicle Household Percent',\n",
    "                  'Population High School Graduate or Equivalency or Higher Percent']\n",
    "\n",
    "X = df_omit[predictor_cols] # Features\n",
    "y = df_omit.SeriesCompCat # Target variable"
   ]
  },
  {
   "cell_type": "markdown",
   "id": "7354d789",
   "metadata": {},
   "source": [
    "To train the model we'll use the <code>train_test_split()</code> function where we will be splitting the data into five parts where 20% will be used as testing data and 80% will be used for training."
   ]
  },
  {
   "cell_type": "code",
   "execution_count": 31,
   "id": "b64a2ead",
   "metadata": {},
   "outputs": [],
   "source": [
    "from sklearn.model_selection import train_test_split\n",
    "\n",
    "X_train, X_test, y_train, y_test = train_test_split(X,y,test_size=0.20,random_state=0)"
   ]
  },
  {
   "cell_type": "code",
   "execution_count": 46,
   "id": "b6f4d209",
   "metadata": {},
   "outputs": [
    {
     "data": {
      "text/plain": [
       "array([0, 0, 0, 1, 0, 1, 1, 1, 0, 1, 0, 0, 1, 0, 0, 0, 0, 0, 1, 0, 0, 1,\n",
       "       1, 0, 1, 0, 0, 1, 1, 0, 1, 0, 0, 1])"
      ]
     },
     "execution_count": 46,
     "metadata": {},
     "output_type": "execute_result"
    }
   ],
   "source": [
    "from sklearn.linear_model import LogisticRegression\n",
    "\n",
    "logreg = LogisticRegression() # Initiate the model\n",
    "logreg.fit(X_train,y_train) # Fit the model with data \n",
    "\n",
    "y_pred=logreg.predict(X_test)\n",
    "y_pred # y_pred contains the predictions we have made"
   ]
  },
  {
   "cell_type": "markdown",
   "id": "b6371571",
   "metadata": {},
   "source": [
    "<p>The next step is to create a confusion matrix so we can see how well our predictions fit.</p>"
   ]
  },
  {
   "cell_type": "code",
   "execution_count": 33,
   "id": "d23ce2aa",
   "metadata": {},
   "outputs": [
    {
     "data": {
      "text/plain": [
       "array([[15,  4],\n",
       "       [ 5, 10]])"
      ]
     },
     "execution_count": 33,
     "metadata": {},
     "output_type": "execute_result"
    }
   ],
   "source": [
    "from sklearn import metrics\n",
    "\n",
    "cnf_matrix = metrics.confusion_matrix(y_test, y_pred)\n",
    "cnf_matrix"
   ]
  },
  {
   "attachments": {
    "confusion-matrix.png": {
     "image/png": "[encoded data removed]"
    }
   },
   "cell_type": "markdown",
   "id": "e7c63268",
   "metadata": {},
   "source": [
    "What does the confusion matrix tell us?\n",
    "![confusion-matrix.png](attachment:confusion-matrix.png)"
   ]
  },
  {
   "cell_type": "markdown",
   "id": "cac2818a",
   "metadata": {},
   "source": [
    "So... How good was the model? Let's look at the confusion <b>matrix evaluation metrics</b>."
   ]
  },
  {
   "cell_type": "code",
   "execution_count": 34,
   "id": "4fa2fd00",
   "metadata": {},
   "outputs": [
    {
     "name": "stdout",
     "output_type": "stream",
     "text": [
      "Accuracy: 0.7352941176470589\n",
      "Precision: 0.7142857142857143\n",
      "Recall: 0.6666666666666666\n",
      "F-Measure: 0.689655172413793\n"
     ]
    }
   ],
   "source": [
    "print(\"Accuracy:\", metrics.accuracy_score(y_test, y_pred))\n",
    "print(\"Precision:\", metrics.precision_score(y_test, y_pred))\n",
    "print(\"Recall:\", metrics.recall_score(y_test, y_pred))\n",
    "print(\"F-Measure:\", metrics.f1_score(y_test, y_pred))"
   ]
  },
  {
   "cell_type": "markdown",
   "id": "3a40fd29",
   "metadata": {},
   "source": [
    "- <b>Accuracy:</b>\n",
    "    - Ability of model to predict the both positives and negatives.\n",
    "    - Accuracy Score = (TP + TN)/ (TP + FN + TN + FP)\n",
    "- <b>Precision:</b>\n",
    "    - Ability of model to predict the positives correctly out of all the predictions.\n",
    "    - Precision Score = TP / (FP + TP)\n",
    "- <b>Recall:</b>\n",
    "    - Ability of the model to predict the positives correctly out of all the acutal positives.\n",
    "    - Recall Score =  TP / (FN + TP)\n",
    "- <b>F1 Score:</b>\n",
    "    - A combination of both recall and precision.\n",
    "    - F1 Score = (2 * Precision Score * Recall Score) / (Precision Score + Recall Score/)"
   ]
  },
  {
   "cell_type": "markdown",
   "id": "3e54ece2",
   "metadata": {},
   "source": [
    "#### So what do we want to say with all these matrix evaluation metrics? \n",
    "\n",
    "<p>Accuracy is generally the most familiar term. We can say our model is 74% accurate. That is to say that 74% of the time we will have correctly predicted the correct outcome. This is genearlly going to be the most understood metric for practical purposes. We are simply including precision, recall, and F1 score to show that it's possible to get that information as well. We're focused on practicality in this lesson, not statistics.</p>\n",
    "\n"
   ]
  },
  {
   "cell_type": "markdown",
   "id": "17d7d69d",
   "metadata": {},
   "source": [
    "#### But doesn't the model we built with <code>sklearn</code> using all the predictors when we determined they didn't matter?\n",
    "<p>That's right. Let's try with just using the predictor that we determined to be the most important and see what we get.</p>"
   ]
  },
  {
   "cell_type": "code",
   "execution_count": 35,
   "id": "23ae961b",
   "metadata": {},
   "outputs": [],
   "source": [
    "predictor_cols = ['Black Percent'] #### Using only Black Percent as the target (predictor) variable\n",
    "\n",
    "X = df_omit[predictor_cols] # Features\n",
    "y = df_omit.SeriesCompCat # Target variable"
   ]
  },
  {
   "cell_type": "code",
   "execution_count": 36,
   "id": "2843bac4",
   "metadata": {},
   "outputs": [],
   "source": [
    "from sklearn.model_selection import train_test_split\n",
    "\n",
    "X_train, X_test, y_train, y_test = train_test_split(X,y,test_size=0.20,random_state=0)"
   ]
  },
  {
   "cell_type": "code",
   "execution_count": 37,
   "id": "35c427ef",
   "metadata": {},
   "outputs": [],
   "source": [
    "from sklearn.linear_model import LogisticRegression\n",
    "\n",
    "logreg = LogisticRegression() # Initiate the model\n",
    "logreg.fit(X_train,y_train) # Fit the model with data \n",
    "\n",
    "y_pred=logreg.predict(X_test)"
   ]
  },
  {
   "cell_type": "code",
   "execution_count": 38,
   "id": "cfafda30",
   "metadata": {
    "scrolled": true
   },
   "outputs": [
    {
     "data": {
      "text/plain": [
       "array([[15,  4],\n",
       "       [ 5, 10]])"
      ]
     },
     "execution_count": 38,
     "metadata": {},
     "output_type": "execute_result"
    }
   ],
   "source": [
    "from sklearn import metrics\n",
    "\n",
    "cnf_matrix = metrics.confusion_matrix(y_test, y_pred)\n",
    "cnf_matrix"
   ]
  },
  {
   "cell_type": "code",
   "execution_count": 39,
   "id": "d1ee18eb",
   "metadata": {},
   "outputs": [
    {
     "name": "stdout",
     "output_type": "stream",
     "text": [
      "Accuracy: 0.7352941176470589\n",
      "Precision: 0.7142857142857143\n",
      "Recall: 0.6666666666666666\n"
     ]
    }
   ],
   "source": [
    "print(\"Accuracy:\",metrics.accuracy_score(y_test, y_pred))\n",
    "print(\"Precision:\",metrics.precision_score(y_test, y_pred))\n",
    "print(\"Recall:\",metrics.recall_score(y_test, y_pred))"
   ]
  },
  {
   "cell_type": "markdown",
   "id": "596505a5",
   "metadata": {},
   "source": [
    "As you can see, the accuracy, precision, and recall are all the same as the previous model. This is because <code>sklearn</code> automatically chose only the most important variable(s). In this case, <b>Black Percent</b> was the only reliable (statistically significant) predictor, just as we determined with <code>statsmodels</code>, so we are getting the same results as using all the predictors.</p>"
   ]
  },
  {
   "cell_type": "markdown",
   "id": "22b64fb8",
   "metadata": {},
   "source": [
    "#### Moving along to predicting with <code>sklearn</code>."
   ]
  },
  {
   "cell_type": "markdown",
   "id": "5d41da35",
   "metadata": {},
   "source": [
    "<p>Predicting with <code>sklearn</code> requires a one-dimensional <code>numpy</code> array as shown below.</p>"
   ]
  },
  {
   "cell_type": "code",
   "execution_count": 40,
   "id": "5aee6894",
   "metadata": {
    "scrolled": true
   },
   "outputs": [
    {
     "data": {
      "text/plain": [
       "array([1])"
      ]
     },
     "execution_count": 40,
     "metadata": {},
     "output_type": "execute_result"
    }
   ],
   "source": [
    "logreg.predict((np.array([90]).reshape(1,-1))) # With 90% black population"
   ]
  },
  {
   "cell_type": "markdown",
   "id": "ee74e831",
   "metadata": {},
   "source": [
    "<p>Alternatively, we can create our array as shown below to mitigate having to reshape.</p>"
   ]
  },
  {
   "cell_type": "code",
   "execution_count": 41,
   "id": "43ef43a2",
   "metadata": {},
   "outputs": [
    {
     "data": {
      "text/plain": [
       "array([1])"
      ]
     },
     "execution_count": 41,
     "metadata": {},
     "output_type": "execute_result"
    }
   ],
   "source": [
    "logreg.predict((np.array([[90]]))) # With 90% black population"
   ]
  },
  {
   "cell_type": "code",
   "execution_count": 42,
   "id": "fca89d2f",
   "metadata": {
    "scrolled": true
   },
   "outputs": [
    {
     "data": {
      "text/plain": [
       "array([0])"
      ]
     },
     "execution_count": 42,
     "metadata": {},
     "output_type": "execute_result"
    }
   ],
   "source": [
    "logreg.predict((np.array([50]).reshape(1,-1)))# With 50% black population"
   ]
  },
  {
   "cell_type": "markdown",
   "id": "1f1b47e3",
   "metadata": {},
   "source": [
    "#### What is the array returned telling us?\n",
    "\n",
    "<p>When the array returns 1, our model is predicting that with <b>74% accuracy</b> that if the black population of a census tract is 90% the census tract will have a vaccination rate below 40%.</p>\n",
    "\n",
    "<p>When we lower the black population to 50% we can say with <b>74% accuracy</b> that the census tract will have a vaccination rate above 40%.</p>\n",
    "\n"
   ]
  },
  {
   "cell_type": "markdown",
   "id": "8483767e",
   "metadata": {},
   "source": [
    "#### But we only testing on 20% of the data, that's not enough, right? Why wouldn't we want to test the rest of the data?\n",
    "\n",
    "<p>Astute observation! That's right! Using only 20% of the data may be okay for a quick and dirty model or a model that uses a very large dataset, but we aren't making a quick and dirty model nor is our dataset very large. We can improve and get a more accuarate accuracy by running <b>cross validation</b> also known as <b>k-fold</b>.</p>\n",
    "\n",
    "<p>K-fold is termed as such because we are folding the data on itself. We will be taking the data and splitting it into 5 parts. In the 1st fold the first 20% of the data will used as the testing data and the remaining 80% will be used as the training data. In the 2nd fold the 2nd 20% of the data will be used to test against the remaining 80% of the training data. The 3rd fold will use the 3rd 20% of the data as a test against predictions made by training with the remaining 80% of the data, and so on and so forth.</p>\n",
    "\n",
    "<p>This is visualized below.</p>"
   ]
  },
  {
   "attachments": {
    "k_fold-2.png": {
     "image/png": "[encoded data removed]"
    }
   },
   "cell_type": "markdown",
   "id": "5ec5c68d",
   "metadata": {},
   "source": [
    "![k_fold-2.png](attachment:k_fold-2.png)"
   ]
  },
  {
   "cell_type": "markdown",
   "id": "ed6135ee",
   "metadata": {},
   "source": [
    "#### So let's try cross validation / k-folding"
   ]
  },
  {
   "cell_type": "code",
   "execution_count": 43,
   "id": "0dcf8961",
   "metadata": {},
   "outputs": [
    {
     "data": {
      "text/plain": [
       "array([0.91176471, 0.78787879, 0.87878788, 0.84848485, 0.75757576])"
      ]
     },
     "execution_count": 43,
     "metadata": {},
     "output_type": "execute_result"
    }
   ],
   "source": [
    "from sklearn.model_selection import KFold\n",
    "from sklearn.model_selection import cross_val_score\n",
    "\n",
    "cv= KFold(n_splits=5, shuffle=True, random_state=1)\n",
    "# We are splitting our data into 20% parts, so the number of spilts is 5\n",
    "# shuffle=True will mix up the data before running the tests (is useful for some time series regression, but doesn't mater for our purposes)\n",
    "# The random_state parameter is the seed for the random number generator (pesudo random number generator actually)\n",
    "\n",
    "model = LogisticRegression()\n",
    "scores = cross_val_score(model, X, y, scoring='accuracy', cv=cv, n_jobs=1)\n",
    "\n",
    "scores"
   ]
  },
  {
   "cell_type": "markdown",
   "id": "1234f002",
   "metadata": {},
   "source": [
    "The array returned contains the results from each run. Due to the size of our dataset there is quite a bit of variation in the accuracies. So, let's average them out and get the standard deviation while we are at it."
   ]
  },
  {
   "cell_type": "code",
   "execution_count": 44,
   "id": "f9fd0d15",
   "metadata": {},
   "outputs": [
    {
     "name": "stdout",
     "output_type": "stream",
     "text": [
      "Accuracy: 0.837 (0.057)\n"
     ]
    }
   ],
   "source": [
    "import statistics\n",
    "print('Accuracy: %.3f (%.3f)' % (statistics.mean(scores), np.std(scores)))"
   ]
  },
  {
   "cell_type": "markdown",
   "id": "0eae9c63",
   "metadata": {},
   "source": [
    "#### Cross Validation / K-fold results\n",
    "\n",
    "<p>Soooo, because we were only training on a portion of our data previously we were only getting 74% accuracy. By using all of the data to train the model, we can see that our accuracy increased to an average of 84%! That's quite an increase.</p>\n",
    "\n",
    "<p>Note: It is also important that we consider our standard deviation of 0.057. We might want to take that and find the confidnece interval for our data to see the range our accuracy falls, but this is again getting more into statistics than we would like.</p>\n",
    "\n",
    "<p>We can take this a step further by doing <a href=\"https://scikit-learn.org/stable/modules/generated/sklearn.model_selection.RepeatedKFold.html\">repeated k-folds</a>, but in our case it may be a bit overkill.</p>"
   ]
  },
  {
   "cell_type": "markdown",
   "id": "a4f3ff4f",
   "metadata": {},
   "source": [
    "#### Final thoughts\n",
    "\n",
    "<p>Pretty simple, huh!?</p>\n",
    "\n",
    "<p>So let's talk about how these two libraries work together. <code>Statsmodels</code> is where we want to begin exploring the data and seeing what predictors are the most important. We can see the p-values and results from other tests using <code>statsmodels</code>. This is where we get the evidence for building a model using a certain modeling technique and determining what predictors are significant and/or important.</p>\n",
    "\n",
    "<p>This is not to say that <code>sklearn</code> can't be used for creating models, but the process is quite a bit more involved. <code>Statsmodels</code> is just going to give us a full report of the model we built, whereas <code>sklearn</code> requires us to specifically request certain tests and/or statistics relating to the built model.</p>\n",
    "\n",
    "<p>Once we have a model built, we can move on to <code>sklearn</code> to make the job of cross validating the modelling technique and making predictions easier. In the example above we worked solely with binomial logistic regression, but the techniques for multinomial logistic, multiple linear, ordered logistic (ordinal), etc. are very similar.</p>\n",
    "\n",
    "<p>This was just the tip of the iceberg of what <code>sklearn</code> has to offer. Check out the <a href=\"https://scikit-learn.org/stable/\"><code>sklearn</code> documentation</a> to see what else is included in the library.</p>\n"
   ]
  }
 ],
 "metadata": {
  "kernelspec": {
   "display_name": "Python 3",
   "language": "python",
   "name": "python3"
  },
  "language_info": {
   "codemirror_mode": {
    "name": "ipython",
    "version": 3
   },
   "file_extension": ".py",
   "mimetype": "text/x-python",
   "name": "python",
   "nbconvert_exporter": "python",
   "pygments_lexer": "ipython3",
   "version": "3.9.5"
  }
 },
 "nbformat": 4,
 "nbformat_minor": 5
}
